{
 "cells": [
  {
   "cell_type": "markdown",
   "metadata": {
    "id": "alIIEHibGc3M"
   },
   "source": [
    "## Part 1: Preprocessing"
   ]
  },
  {
   "cell_type": "markdown",
   "metadata": {},
   "source": [
    "#### Step 1: Import the data and view the first five rows"
   ]
  },
  {
   "cell_type": "code",
   "execution_count": 29,
   "metadata": {
    "colab": {
     "base_uri": "https://localhost:8080/",
     "height": 325
    },
    "id": "6eDUJ4NtGc3P",
    "outputId": "2480098c-135c-4cbf-9552-018494ee8ff5"
   },
   "outputs": [
    {
     "data": {
      "text/html": [
       "<div>\n",
       "<style scoped>\n",
       "    .dataframe tbody tr th:only-of-type {\n",
       "        vertical-align: middle;\n",
       "    }\n",
       "\n",
       "    .dataframe tbody tr th {\n",
       "        vertical-align: top;\n",
       "    }\n",
       "\n",
       "    .dataframe thead th {\n",
       "        text-align: right;\n",
       "    }\n",
       "</style>\n",
       "<table border=\"1\" class=\"dataframe\">\n",
       "  <thead>\n",
       "    <tr style=\"text-align: right;\">\n",
       "      <th></th>\n",
       "      <th>Age</th>\n",
       "      <th>Attrition</th>\n",
       "      <th>BusinessTravel</th>\n",
       "      <th>Department</th>\n",
       "      <th>DistanceFromHome</th>\n",
       "      <th>Education</th>\n",
       "      <th>EducationField</th>\n",
       "      <th>EnvironmentSatisfaction</th>\n",
       "      <th>HourlyRate</th>\n",
       "      <th>JobInvolvement</th>\n",
       "      <th>...</th>\n",
       "      <th>PerformanceRating</th>\n",
       "      <th>RelationshipSatisfaction</th>\n",
       "      <th>StockOptionLevel</th>\n",
       "      <th>TotalWorkingYears</th>\n",
       "      <th>TrainingTimesLastYear</th>\n",
       "      <th>WorkLifeBalance</th>\n",
       "      <th>YearsAtCompany</th>\n",
       "      <th>YearsInCurrentRole</th>\n",
       "      <th>YearsSinceLastPromotion</th>\n",
       "      <th>YearsWithCurrManager</th>\n",
       "    </tr>\n",
       "  </thead>\n",
       "  <tbody>\n",
       "    <tr>\n",
       "      <th>0</th>\n",
       "      <td>41</td>\n",
       "      <td>Yes</td>\n",
       "      <td>Travel_Rarely</td>\n",
       "      <td>Sales</td>\n",
       "      <td>1</td>\n",
       "      <td>2</td>\n",
       "      <td>Life Sciences</td>\n",
       "      <td>2</td>\n",
       "      <td>94</td>\n",
       "      <td>3</td>\n",
       "      <td>...</td>\n",
       "      <td>3</td>\n",
       "      <td>1</td>\n",
       "      <td>0</td>\n",
       "      <td>8</td>\n",
       "      <td>0</td>\n",
       "      <td>1</td>\n",
       "      <td>6</td>\n",
       "      <td>4</td>\n",
       "      <td>0</td>\n",
       "      <td>5</td>\n",
       "    </tr>\n",
       "    <tr>\n",
       "      <th>1</th>\n",
       "      <td>49</td>\n",
       "      <td>No</td>\n",
       "      <td>Travel_Frequently</td>\n",
       "      <td>Research &amp; Development</td>\n",
       "      <td>8</td>\n",
       "      <td>1</td>\n",
       "      <td>Life Sciences</td>\n",
       "      <td>3</td>\n",
       "      <td>61</td>\n",
       "      <td>2</td>\n",
       "      <td>...</td>\n",
       "      <td>4</td>\n",
       "      <td>4</td>\n",
       "      <td>1</td>\n",
       "      <td>10</td>\n",
       "      <td>3</td>\n",
       "      <td>3</td>\n",
       "      <td>10</td>\n",
       "      <td>7</td>\n",
       "      <td>1</td>\n",
       "      <td>7</td>\n",
       "    </tr>\n",
       "    <tr>\n",
       "      <th>2</th>\n",
       "      <td>37</td>\n",
       "      <td>Yes</td>\n",
       "      <td>Travel_Rarely</td>\n",
       "      <td>Research &amp; Development</td>\n",
       "      <td>2</td>\n",
       "      <td>2</td>\n",
       "      <td>Other</td>\n",
       "      <td>4</td>\n",
       "      <td>92</td>\n",
       "      <td>2</td>\n",
       "      <td>...</td>\n",
       "      <td>3</td>\n",
       "      <td>2</td>\n",
       "      <td>0</td>\n",
       "      <td>7</td>\n",
       "      <td>3</td>\n",
       "      <td>3</td>\n",
       "      <td>0</td>\n",
       "      <td>0</td>\n",
       "      <td>0</td>\n",
       "      <td>0</td>\n",
       "    </tr>\n",
       "    <tr>\n",
       "      <th>3</th>\n",
       "      <td>33</td>\n",
       "      <td>No</td>\n",
       "      <td>Travel_Frequently</td>\n",
       "      <td>Research &amp; Development</td>\n",
       "      <td>3</td>\n",
       "      <td>4</td>\n",
       "      <td>Life Sciences</td>\n",
       "      <td>4</td>\n",
       "      <td>56</td>\n",
       "      <td>3</td>\n",
       "      <td>...</td>\n",
       "      <td>3</td>\n",
       "      <td>3</td>\n",
       "      <td>0</td>\n",
       "      <td>8</td>\n",
       "      <td>3</td>\n",
       "      <td>3</td>\n",
       "      <td>8</td>\n",
       "      <td>7</td>\n",
       "      <td>3</td>\n",
       "      <td>0</td>\n",
       "    </tr>\n",
       "    <tr>\n",
       "      <th>4</th>\n",
       "      <td>27</td>\n",
       "      <td>No</td>\n",
       "      <td>Travel_Rarely</td>\n",
       "      <td>Research &amp; Development</td>\n",
       "      <td>2</td>\n",
       "      <td>1</td>\n",
       "      <td>Medical</td>\n",
       "      <td>1</td>\n",
       "      <td>40</td>\n",
       "      <td>3</td>\n",
       "      <td>...</td>\n",
       "      <td>3</td>\n",
       "      <td>4</td>\n",
       "      <td>1</td>\n",
       "      <td>6</td>\n",
       "      <td>3</td>\n",
       "      <td>3</td>\n",
       "      <td>2</td>\n",
       "      <td>2</td>\n",
       "      <td>2</td>\n",
       "      <td>2</td>\n",
       "    </tr>\n",
       "  </tbody>\n",
       "</table>\n",
       "<p>5 rows × 27 columns</p>\n",
       "</div>"
      ],
      "text/plain": [
       "   Age Attrition     BusinessTravel              Department  DistanceFromHome  \\\n",
       "0   41       Yes      Travel_Rarely                   Sales                 1   \n",
       "1   49        No  Travel_Frequently  Research & Development                 8   \n",
       "2   37       Yes      Travel_Rarely  Research & Development                 2   \n",
       "3   33        No  Travel_Frequently  Research & Development                 3   \n",
       "4   27        No      Travel_Rarely  Research & Development                 2   \n",
       "\n",
       "   Education EducationField  EnvironmentSatisfaction  HourlyRate  \\\n",
       "0          2  Life Sciences                        2          94   \n",
       "1          1  Life Sciences                        3          61   \n",
       "2          2          Other                        4          92   \n",
       "3          4  Life Sciences                        4          56   \n",
       "4          1        Medical                        1          40   \n",
       "\n",
       "   JobInvolvement  ...  PerformanceRating RelationshipSatisfaction  \\\n",
       "0               3  ...                  3                        1   \n",
       "1               2  ...                  4                        4   \n",
       "2               2  ...                  3                        2   \n",
       "3               3  ...                  3                        3   \n",
       "4               3  ...                  3                        4   \n",
       "\n",
       "   StockOptionLevel TotalWorkingYears  TrainingTimesLastYear WorkLifeBalance  \\\n",
       "0                 0                 8                      0               1   \n",
       "1                 1                10                      3               3   \n",
       "2                 0                 7                      3               3   \n",
       "3                 0                 8                      3               3   \n",
       "4                 1                 6                      3               3   \n",
       "\n",
       "   YearsAtCompany  YearsInCurrentRole  YearsSinceLastPromotion  \\\n",
       "0               6                   4                        0   \n",
       "1              10                   7                        1   \n",
       "2               0                   0                        0   \n",
       "3               8                   7                        3   \n",
       "4               2                   2                        2   \n",
       "\n",
       "   YearsWithCurrManager  \n",
       "0                     5  \n",
       "1                     7  \n",
       "2                     0  \n",
       "3                     0  \n",
       "4                     2  \n",
       "\n",
       "[5 rows x 27 columns]"
      ]
     },
     "execution_count": 29,
     "metadata": {},
     "output_type": "execute_result"
    }
   ],
   "source": [
    "# Import our dependencies\n",
    "from sklearn.model_selection import train_test_split\n",
    "from sklearn.preprocessing import StandardScaler\n",
    "import pandas as pd\n",
    "import numpy as np\n",
    "from tensorflow.keras.models import Model\n",
    "from tensorflow.keras import layers\n",
    "\n",
    "#  Import and read the attrition data\n",
    "attrition_df = pd.read_csv('https://static.bc-edx.com/ai/ail-v-1-0/m19/lms/datasets/attrition.csv')\n",
    "attrition_df.head()"
   ]
  },
  {
   "cell_type": "markdown",
   "metadata": {},
   "source": [
    "#### Step 2: Determine the number of unique values in each column & identify y labels"
   ]
  },
  {
   "cell_type": "code",
   "execution_count": 30,
   "metadata": {
    "colab": {
     "base_uri": "https://localhost:8080/"
    },
    "id": "g22aQSY4Gc3Q",
    "outputId": "1f5c13c1-b981-4e40-a7ed-dd3fe6f1b81e"
   },
   "outputs": [
    {
     "data": {
      "text/plain": [
       "Age                         43\n",
       "Attrition                    2\n",
       "BusinessTravel               3\n",
       "Department                   3\n",
       "DistanceFromHome            29\n",
       "Education                    5\n",
       "EducationField               6\n",
       "EnvironmentSatisfaction      4\n",
       "HourlyRate                  71\n",
       "JobInvolvement               4\n",
       "JobLevel                     5\n",
       "JobRole                      9\n",
       "JobSatisfaction              4\n",
       "MaritalStatus                3\n",
       "NumCompaniesWorked          10\n",
       "OverTime                     2\n",
       "PercentSalaryHike           15\n",
       "PerformanceRating            2\n",
       "RelationshipSatisfaction     4\n",
       "StockOptionLevel             4\n",
       "TotalWorkingYears           40\n",
       "TrainingTimesLastYear        7\n",
       "WorkLifeBalance              4\n",
       "YearsAtCompany              37\n",
       "YearsInCurrentRole          19\n",
       "YearsSinceLastPromotion     16\n",
       "YearsWithCurrManager        18\n",
       "dtype: int64"
      ]
     },
     "execution_count": 30,
     "metadata": {},
     "output_type": "execute_result"
    }
   ],
   "source": [
    "# Determine the number of unique values in each column.\n",
    "attrition_df.nunique()"
   ]
  },
  {
   "cell_type": "code",
   "execution_count": 31,
   "metadata": {},
   "outputs": [
    {
     "data": {
      "text/plain": [
       "Attrition\n",
       "No     1233\n",
       "Yes     237\n",
       "Name: count, dtype: int64"
      ]
     },
     "execution_count": 31,
     "metadata": {},
     "output_type": "execute_result"
    }
   ],
   "source": [
    "# Explore the classes for Attrition Column\n",
    "attrition_df['Attrition'].value_counts()"
   ]
  },
  {
   "cell_type": "markdown",
   "metadata": {},
   "source": [
    "- Attrition is Binary and Mutually Exclusive\n",
    "- Sigmoid is best option\n",
    "- Encoding: Label Encoding or OneHot Encoding"
   ]
  },
  {
   "cell_type": "code",
   "execution_count": 32,
   "metadata": {},
   "outputs": [
    {
     "data": {
      "text/plain": [
       "Department\n",
       "Research & Development    961\n",
       "Sales                     446\n",
       "Human Resources            63\n",
       "Name: count, dtype: int64"
      ]
     },
     "execution_count": 32,
     "metadata": {},
     "output_type": "execute_result"
    }
   ],
   "source": [
    "# Explore the classes for Department Column\n",
    "attrition_df['Department'].value_counts()"
   ]
  },
  {
   "cell_type": "markdown",
   "metadata": {},
   "source": [
    "- Department is Multi-class and Mutually Exclusive\n",
    "- Softmax is best option\n",
    "- Encoding: OneHot Encoding"
   ]
  },
  {
   "cell_type": "markdown",
   "metadata": {},
   "source": [
    "#### Step 3: Create y_df with identified column(s)"
   ]
  },
  {
   "cell_type": "code",
   "execution_count": 33,
   "metadata": {
    "id": "50vMgBEnJbfM"
   },
   "outputs": [
    {
     "data": {
      "text/html": [
       "<div>\n",
       "<style scoped>\n",
       "    .dataframe tbody tr th:only-of-type {\n",
       "        vertical-align: middle;\n",
       "    }\n",
       "\n",
       "    .dataframe tbody tr th {\n",
       "        vertical-align: top;\n",
       "    }\n",
       "\n",
       "    .dataframe thead th {\n",
       "        text-align: right;\n",
       "    }\n",
       "</style>\n",
       "<table border=\"1\" class=\"dataframe\">\n",
       "  <thead>\n",
       "    <tr style=\"text-align: right;\">\n",
       "      <th></th>\n",
       "      <th>Attrition</th>\n",
       "      <th>Department</th>\n",
       "    </tr>\n",
       "  </thead>\n",
       "  <tbody>\n",
       "    <tr>\n",
       "      <th>0</th>\n",
       "      <td>Yes</td>\n",
       "      <td>Sales</td>\n",
       "    </tr>\n",
       "    <tr>\n",
       "      <th>1</th>\n",
       "      <td>No</td>\n",
       "      <td>Research &amp; Development</td>\n",
       "    </tr>\n",
       "    <tr>\n",
       "      <th>2</th>\n",
       "      <td>Yes</td>\n",
       "      <td>Research &amp; Development</td>\n",
       "    </tr>\n",
       "    <tr>\n",
       "      <th>3</th>\n",
       "      <td>No</td>\n",
       "      <td>Research &amp; Development</td>\n",
       "    </tr>\n",
       "    <tr>\n",
       "      <th>4</th>\n",
       "      <td>No</td>\n",
       "      <td>Research &amp; Development</td>\n",
       "    </tr>\n",
       "  </tbody>\n",
       "</table>\n",
       "</div>"
      ],
      "text/plain": [
       "  Attrition              Department\n",
       "0       Yes                   Sales\n",
       "1        No  Research & Development\n",
       "2       Yes  Research & Development\n",
       "3        No  Research & Development\n",
       "4        No  Research & Development"
      ]
     },
     "execution_count": 33,
     "metadata": {},
     "output_type": "execute_result"
    }
   ],
   "source": [
    "# Create y_df with the Attrition and Department columns\n",
    "y_df = attrition_df[[\"Attrition\", \"Department\"]]\n",
    "y_df.head()"
   ]
  },
  {
   "cell_type": "markdown",
   "metadata": {},
   "source": [
    "#### Step 4: Create X_df with selected features"
   ]
  },
  {
   "cell_type": "code",
   "execution_count": 34,
   "metadata": {
    "colab": {
     "base_uri": "https://localhost:8080/"
    },
    "id": "Virka0zLGc3R",
    "outputId": "dd5aee3a-9458-4ba6-e857-1b234de40915"
   },
   "outputs": [
    {
     "data": {
      "text/plain": [
       "Education                   int64\n",
       "Age                         int64\n",
       "DistanceFromHome            int64\n",
       "JobSatisfaction             int64\n",
       "OverTime                   object\n",
       "StockOptionLevel            int64\n",
       "WorkLifeBalance             int64\n",
       "YearsAtCompany              int64\n",
       "YearsSinceLastPromotion     int64\n",
       "NumCompaniesWorked          int64\n",
       "dtype: object"
      ]
     },
     "execution_count": 34,
     "metadata": {},
     "output_type": "execute_result"
    }
   ],
   "source": [
    "# Create a list of at least 10 column names to use as X data\n",
    "X_columns = [\"Education\", \"Age\", \"DistanceFromHome\", \"JobSatisfaction\", \"OverTime\", \"StockOptionLevel\",\n",
    "              \"WorkLifeBalance\",  \"YearsAtCompany\", \"YearsSinceLastPromotion\", \"NumCompaniesWorked\"]\n",
    "\n",
    "# Create X_df using your selected columns\n",
    "X_df = attrition_df[X_columns]\n",
    "\n",
    "# Show the data types for X_df\n",
    "X_df.dtypes"
   ]
  },
  {
   "cell_type": "code",
   "execution_count": 35,
   "metadata": {},
   "outputs": [
    {
     "data": {
      "text/plain": [
       "OverTime\n",
       "No     1054\n",
       "Yes     416\n",
       "Name: count, dtype: int64"
      ]
     },
     "execution_count": 35,
     "metadata": {},
     "output_type": "execute_result"
    }
   ],
   "source": [
    "# Explore categorical column\n",
    "X_df[\"OverTime\"].value_counts()"
   ]
  },
  {
   "cell_type": "markdown",
   "metadata": {},
   "source": [
    "#### Step 5: Split the data into training and testing sets"
   ]
  },
  {
   "cell_type": "code",
   "execution_count": 36,
   "metadata": {
    "id": "KaJfdOGUMHMR"
   },
   "outputs": [],
   "source": [
    "# Split the data into training and testing sets\n",
    "from sklearn.model_selection import train_test_split\n",
    "\n",
    "X_train, X_test, y_train, y_test = train_test_split(X_df, y_df, random_state=1)"
   ]
  },
  {
   "cell_type": "markdown",
   "metadata": {},
   "source": [
    "#### Step 6: Convert X data to numeric data types\n",
    "- In this step a generic OneHotEncoding method is applied to encode all categorical columns"
   ]
  },
  {
   "cell_type": "code",
   "execution_count": 37,
   "metadata": {
    "colab": {
     "base_uri": "https://localhost:8080/"
    },
    "id": "NYubUJqiLCSp",
    "outputId": "53f31721-571c-4c94-d13e-25a715749593"
   },
   "outputs": [],
   "source": [
    "# Convert your X data to numeric data types however you see fit\n",
    "# Encode categorical variables in X_train and X_test\n",
    "X_train = pd.get_dummies(X_train)\n",
    "X_test = pd.get_dummies(X_test)\n",
    "\n",
    "# Align columns in training and testing sets\n",
    "X_train, X_test = X_train.align(X_test, join=\"inner\", axis=1)"
   ]
  },
  {
   "cell_type": "markdown",
   "metadata": {},
   "source": [
    "#### Step 7: Scale the X data"
   ]
  },
  {
   "cell_type": "code",
   "execution_count": 38,
   "metadata": {
    "id": "EWA-aIA5Gc3T"
   },
   "outputs": [],
   "source": [
    "# Create a StandardScaler\n",
    "scaler = StandardScaler()\n",
    "\n",
    "# Fit the StandardScaler to the training data\n",
    "scaler.fit(X_train)\n",
    "\n",
    "# Scale the training and testing data\n",
    "X_train_scaled = scaler.transform(X_train)\n",
    "X_test_scaled = scaler.transform(X_test)\n"
   ]
  },
  {
   "cell_type": "markdown",
   "metadata": {},
   "source": [
    "#### Step 8.1: Encode y data - Department"
   ]
  },
  {
   "cell_type": "code",
   "execution_count": 39,
   "metadata": {
    "colab": {
     "base_uri": "https://localhost:8080/"
    },
    "id": "-z0Mky8vQSz4",
    "outputId": "debefc85-c20b-48f5-f4d9-91eadd65d36a"
   },
   "outputs": [
    {
     "name": "stdout",
     "output_type": "stream",
     "text": [
      "Encoded Department Training Data:\n",
      "[[0. 1. 0.]\n",
      " [0. 1. 0.]\n",
      " [0. 0. 1.]\n",
      " ...\n",
      " [1. 0. 0.]\n",
      " [0. 0. 1.]\n",
      " [0. 0. 1.]]\n"
     ]
    }
   ],
   "source": [
    "# Import OneHotEncoder\n",
    "from sklearn.preprocessing import OneHotEncoder\n",
    "\n",
    "# Create a OneHotEncoder instance for the Department column\n",
    "department_encoder = OneHotEncoder(sparse_output=False)\n",
    "\n",
    "# Fit the encoder to the training data for the Department column\n",
    "department_encoder.fit(y_train[[\"Department\"]])\n",
    "\n",
    "# Apply the encoder to the training and testing data\n",
    "y_train_department = department_encoder.transform(y_train[[\"Department\"]])\n",
    "y_test_department = department_encoder.transform(y_test[[\"Department\"]])\n",
    "\n",
    "# Display the encoded output for the Department column\n",
    "print(\"Encoded Department Training Data:\")\n",
    "print(y_train_department)"
   ]
  },
  {
   "cell_type": "markdown",
   "metadata": {},
   "source": [
    "#### Step 8.2: Encode y data - Attrition"
   ]
  },
  {
   "cell_type": "code",
   "execution_count": 40,
   "metadata": {
    "colab": {
     "base_uri": "https://localhost:8080/"
    },
    "id": "-G4DSpvFRrk4",
    "outputId": "9842e948-8a55-4b80-8fac-f96714e85589"
   },
   "outputs": [
    {
     "name": "stdout",
     "output_type": "stream",
     "text": [
      "Encoded Attrition Training Data:\n",
      "[[1. 0.]\n",
      " [1. 0.]\n",
      " [0. 1.]\n",
      " ...\n",
      " [1. 0.]\n",
      " [1. 0.]\n",
      " [1. 0.]]\n"
     ]
    }
   ],
   "source": [
    "# Create a OneHotEncoder instance for the Attrition column\n",
    "attrition_encoder = OneHotEncoder(sparse_output=False)\n",
    "\n",
    "# Fit the encoder to the training data for the Attrition column\n",
    "attrition_encoder.fit(y_train[[\"Attrition\"]])\n",
    "\n",
    "# Apply the encoder to the training and testing data\n",
    "y_train_attrition = attrition_encoder.transform(y_train[[\"Attrition\"]])\n",
    "y_test_attrition = attrition_encoder.transform(y_test[[\"Attrition\"]])\n",
    "\n",
    "# Display the encoded output for the Attrition column\n",
    "print(\"Encoded Attrition Training Data:\")\n",
    "print(y_train_attrition)"
   ]
  },
  {
   "cell_type": "markdown",
   "metadata": {
    "id": "ykNmu_WWGc3T"
   },
   "source": [
    "## Create, Compile, and Train the Model"
   ]
  },
  {
   "cell_type": "code",
   "execution_count": 41,
   "metadata": {
    "id": "WUptZqmSGc3T"
   },
   "outputs": [],
   "source": [
    "# Find the number of columns in the X training data\n",
    "# input_features = X_train_scaled.shape[1]\n",
    "\n",
    "# Create the input layer\n",
    "# input_layer = layers.Input(shape=(input_features,), name=\"input\")\n",
    "\n",
    "# in this code we have the shapr of input as 11 vs 10 because onehot encoding created one more column\n",
    "input_layer = layers.Input(shape=(11,), name='input_features')\n",
    "\n",
    "# Create at least two shared layers\n",
    "shared_layer1 = layers.Dense(64, activation='relu')(input_layer)\n",
    "shared_layer2 = layers.Dense(128, activation='relu')(shared_layer1)"
   ]
  },
  {
   "cell_type": "code",
   "execution_count": 42,
   "metadata": {
    "id": "JukjTm2yTEqd"
   },
   "outputs": [],
   "source": [
    "# Create a branch for Department\n",
    "# with a hidden layer and an output layer\n",
    "\n",
    "# Create the hidden layer\n",
    "department_hidden = layers.Dense(units=32, activation=\"relu\", name=\"department_hidden\")(shared_layer2)\n",
    "\n",
    "# Create the output layer\n",
    "department_output = layers.Dense(units=3, activation=\"softmax\", name=\"department_output\")(department_hidden)\n"
   ]
  },
  {
   "cell_type": "code",
   "execution_count": 43,
   "metadata": {
    "id": "9OqhUiOJUBkR"
   },
   "outputs": [],
   "source": [
    "# Create a branch for Attrition\n",
    "# with a hidden layer and an output layer\n",
    "\n",
    "# Create the hidden layer\n",
    "attrition_hidden = layers.Dense(units=32, activation=\"relu\", name=\"attrition_hidden\")(shared_layer2)\n",
    "\n",
    "# Create the output layer\n",
    "attrition_output = layers.Dense(units=2, activation=\"sigmoid\", name=\"attrition_output\")(attrition_hidden)\n"
   ]
  },
  {
   "cell_type": "code",
   "execution_count": 44,
   "metadata": {
    "colab": {
     "base_uri": "https://localhost:8080/"
    },
    "id": "twmuejdxGc3T",
    "outputId": "25096308-b68b-42e4-e4ea-ae82e97c435a"
   },
   "outputs": [
    {
     "data": {
      "text/html": [
       "<pre style=\"white-space:pre;overflow-x:auto;line-height:normal;font-family:Menlo,'DejaVu Sans Mono',consolas,'Courier New',monospace\"><span style=\"font-weight: bold\">Model: \"functional_2\"</span>\n",
       "</pre>\n"
      ],
      "text/plain": [
       "\u001b[1mModel: \"functional_2\"\u001b[0m\n"
      ]
     },
     "metadata": {},
     "output_type": "display_data"
    },
    {
     "data": {
      "text/html": [
       "<pre style=\"white-space:pre;overflow-x:auto;line-height:normal;font-family:Menlo,'DejaVu Sans Mono',consolas,'Courier New',monospace\">┏━━━━━━━━━━━━━━━━━━━━━┳━━━━━━━━━━━━━━━━━━━┳━━━━━━━━━━━━┳━━━━━━━━━━━━━━━━━━━┓\n",
       "┃<span style=\"font-weight: bold\"> Layer (type)        </span>┃<span style=\"font-weight: bold\"> Output Shape      </span>┃<span style=\"font-weight: bold\">    Param # </span>┃<span style=\"font-weight: bold\"> Connected to      </span>┃\n",
       "┡━━━━━━━━━━━━━━━━━━━━━╇━━━━━━━━━━━━━━━━━━━╇━━━━━━━━━━━━╇━━━━━━━━━━━━━━━━━━━┩\n",
       "│ input_features      │ (<span style=\"color: #00d7ff; text-decoration-color: #00d7ff\">None</span>, <span style=\"color: #00af00; text-decoration-color: #00af00\">11</span>)        │          <span style=\"color: #00af00; text-decoration-color: #00af00\">0</span> │ -                 │\n",
       "│ (<span style=\"color: #0087ff; text-decoration-color: #0087ff\">InputLayer</span>)        │                   │            │                   │\n",
       "├─────────────────────┼───────────────────┼────────────┼───────────────────┤\n",
       "│ dense_4 (<span style=\"color: #0087ff; text-decoration-color: #0087ff\">Dense</span>)     │ (<span style=\"color: #00d7ff; text-decoration-color: #00d7ff\">None</span>, <span style=\"color: #00af00; text-decoration-color: #00af00\">64</span>)        │        <span style=\"color: #00af00; text-decoration-color: #00af00\">768</span> │ input_features[<span style=\"color: #00af00; text-decoration-color: #00af00\">0</span>… │\n",
       "├─────────────────────┼───────────────────┼────────────┼───────────────────┤\n",
       "│ dense_5 (<span style=\"color: #0087ff; text-decoration-color: #0087ff\">Dense</span>)     │ (<span style=\"color: #00d7ff; text-decoration-color: #00d7ff\">None</span>, <span style=\"color: #00af00; text-decoration-color: #00af00\">128</span>)       │      <span style=\"color: #00af00; text-decoration-color: #00af00\">8,320</span> │ dense_4[<span style=\"color: #00af00; text-decoration-color: #00af00\">0</span>][<span style=\"color: #00af00; text-decoration-color: #00af00\">0</span>]     │\n",
       "├─────────────────────┼───────────────────┼────────────┼───────────────────┤\n",
       "│ department_hidden   │ (<span style=\"color: #00d7ff; text-decoration-color: #00d7ff\">None</span>, <span style=\"color: #00af00; text-decoration-color: #00af00\">32</span>)        │      <span style=\"color: #00af00; text-decoration-color: #00af00\">4,128</span> │ dense_5[<span style=\"color: #00af00; text-decoration-color: #00af00\">0</span>][<span style=\"color: #00af00; text-decoration-color: #00af00\">0</span>]     │\n",
       "│ (<span style=\"color: #0087ff; text-decoration-color: #0087ff\">Dense</span>)             │                   │            │                   │\n",
       "├─────────────────────┼───────────────────┼────────────┼───────────────────┤\n",
       "│ attrition_hidden    │ (<span style=\"color: #00d7ff; text-decoration-color: #00d7ff\">None</span>, <span style=\"color: #00af00; text-decoration-color: #00af00\">32</span>)        │      <span style=\"color: #00af00; text-decoration-color: #00af00\">4,128</span> │ dense_5[<span style=\"color: #00af00; text-decoration-color: #00af00\">0</span>][<span style=\"color: #00af00; text-decoration-color: #00af00\">0</span>]     │\n",
       "│ (<span style=\"color: #0087ff; text-decoration-color: #0087ff\">Dense</span>)             │                   │            │                   │\n",
       "├─────────────────────┼───────────────────┼────────────┼───────────────────┤\n",
       "│ department_output   │ (<span style=\"color: #00d7ff; text-decoration-color: #00d7ff\">None</span>, <span style=\"color: #00af00; text-decoration-color: #00af00\">3</span>)         │         <span style=\"color: #00af00; text-decoration-color: #00af00\">99</span> │ department_hidde… │\n",
       "│ (<span style=\"color: #0087ff; text-decoration-color: #0087ff\">Dense</span>)             │                   │            │                   │\n",
       "├─────────────────────┼───────────────────┼────────────┼───────────────────┤\n",
       "│ attrition_output    │ (<span style=\"color: #00d7ff; text-decoration-color: #00d7ff\">None</span>, <span style=\"color: #00af00; text-decoration-color: #00af00\">2</span>)         │         <span style=\"color: #00af00; text-decoration-color: #00af00\">66</span> │ attrition_hidden… │\n",
       "│ (<span style=\"color: #0087ff; text-decoration-color: #0087ff\">Dense</span>)             │                   │            │                   │\n",
       "└─────────────────────┴───────────────────┴────────────┴───────────────────┘\n",
       "</pre>\n"
      ],
      "text/plain": [
       "┏━━━━━━━━━━━━━━━━━━━━━┳━━━━━━━━━━━━━━━━━━━┳━━━━━━━━━━━━┳━━━━━━━━━━━━━━━━━━━┓\n",
       "┃\u001b[1m \u001b[0m\u001b[1mLayer (type)       \u001b[0m\u001b[1m \u001b[0m┃\u001b[1m \u001b[0m\u001b[1mOutput Shape     \u001b[0m\u001b[1m \u001b[0m┃\u001b[1m \u001b[0m\u001b[1m   Param #\u001b[0m\u001b[1m \u001b[0m┃\u001b[1m \u001b[0m\u001b[1mConnected to     \u001b[0m\u001b[1m \u001b[0m┃\n",
       "┡━━━━━━━━━━━━━━━━━━━━━╇━━━━━━━━━━━━━━━━━━━╇━━━━━━━━━━━━╇━━━━━━━━━━━━━━━━━━━┩\n",
       "│ input_features      │ (\u001b[38;5;45mNone\u001b[0m, \u001b[38;5;34m11\u001b[0m)        │          \u001b[38;5;34m0\u001b[0m │ -                 │\n",
       "│ (\u001b[38;5;33mInputLayer\u001b[0m)        │                   │            │                   │\n",
       "├─────────────────────┼───────────────────┼────────────┼───────────────────┤\n",
       "│ dense_4 (\u001b[38;5;33mDense\u001b[0m)     │ (\u001b[38;5;45mNone\u001b[0m, \u001b[38;5;34m64\u001b[0m)        │        \u001b[38;5;34m768\u001b[0m │ input_features[\u001b[38;5;34m0\u001b[0m… │\n",
       "├─────────────────────┼───────────────────┼────────────┼───────────────────┤\n",
       "│ dense_5 (\u001b[38;5;33mDense\u001b[0m)     │ (\u001b[38;5;45mNone\u001b[0m, \u001b[38;5;34m128\u001b[0m)       │      \u001b[38;5;34m8,320\u001b[0m │ dense_4[\u001b[38;5;34m0\u001b[0m][\u001b[38;5;34m0\u001b[0m]     │\n",
       "├─────────────────────┼───────────────────┼────────────┼───────────────────┤\n",
       "│ department_hidden   │ (\u001b[38;5;45mNone\u001b[0m, \u001b[38;5;34m32\u001b[0m)        │      \u001b[38;5;34m4,128\u001b[0m │ dense_5[\u001b[38;5;34m0\u001b[0m][\u001b[38;5;34m0\u001b[0m]     │\n",
       "│ (\u001b[38;5;33mDense\u001b[0m)             │                   │            │                   │\n",
       "├─────────────────────┼───────────────────┼────────────┼───────────────────┤\n",
       "│ attrition_hidden    │ (\u001b[38;5;45mNone\u001b[0m, \u001b[38;5;34m32\u001b[0m)        │      \u001b[38;5;34m4,128\u001b[0m │ dense_5[\u001b[38;5;34m0\u001b[0m][\u001b[38;5;34m0\u001b[0m]     │\n",
       "│ (\u001b[38;5;33mDense\u001b[0m)             │                   │            │                   │\n",
       "├─────────────────────┼───────────────────┼────────────┼───────────────────┤\n",
       "│ department_output   │ (\u001b[38;5;45mNone\u001b[0m, \u001b[38;5;34m3\u001b[0m)         │         \u001b[38;5;34m99\u001b[0m │ department_hidde… │\n",
       "│ (\u001b[38;5;33mDense\u001b[0m)             │                   │            │                   │\n",
       "├─────────────────────┼───────────────────┼────────────┼───────────────────┤\n",
       "│ attrition_output    │ (\u001b[38;5;45mNone\u001b[0m, \u001b[38;5;34m2\u001b[0m)         │         \u001b[38;5;34m66\u001b[0m │ attrition_hidden… │\n",
       "│ (\u001b[38;5;33mDense\u001b[0m)             │                   │            │                   │\n",
       "└─────────────────────┴───────────────────┴────────────┴───────────────────┘\n"
      ]
     },
     "metadata": {},
     "output_type": "display_data"
    },
    {
     "data": {
      "text/html": [
       "<pre style=\"white-space:pre;overflow-x:auto;line-height:normal;font-family:Menlo,'DejaVu Sans Mono',consolas,'Courier New',monospace\"><span style=\"font-weight: bold\"> Total params: </span><span style=\"color: #00af00; text-decoration-color: #00af00\">17,509</span> (68.39 KB)\n",
       "</pre>\n"
      ],
      "text/plain": [
       "\u001b[1m Total params: \u001b[0m\u001b[38;5;34m17,509\u001b[0m (68.39 KB)\n"
      ]
     },
     "metadata": {},
     "output_type": "display_data"
    },
    {
     "data": {
      "text/html": [
       "<pre style=\"white-space:pre;overflow-x:auto;line-height:normal;font-family:Menlo,'DejaVu Sans Mono',consolas,'Courier New',monospace\"><span style=\"font-weight: bold\"> Trainable params: </span><span style=\"color: #00af00; text-decoration-color: #00af00\">17,509</span> (68.39 KB)\n",
       "</pre>\n"
      ],
      "text/plain": [
       "\u001b[1m Trainable params: \u001b[0m\u001b[38;5;34m17,509\u001b[0m (68.39 KB)\n"
      ]
     },
     "metadata": {},
     "output_type": "display_data"
    },
    {
     "data": {
      "text/html": [
       "<pre style=\"white-space:pre;overflow-x:auto;line-height:normal;font-family:Menlo,'DejaVu Sans Mono',consolas,'Courier New',monospace\"><span style=\"font-weight: bold\"> Non-trainable params: </span><span style=\"color: #00af00; text-decoration-color: #00af00\">0</span> (0.00 B)\n",
       "</pre>\n"
      ],
      "text/plain": [
       "\u001b[1m Non-trainable params: \u001b[0m\u001b[38;5;34m0\u001b[0m (0.00 B)\n"
      ]
     },
     "metadata": {},
     "output_type": "display_data"
    }
   ],
   "source": [
    "# Create the model\n",
    "model = Model(inputs=input_layer, outputs=[department_output, attrition_output])\n",
    "\n",
    "# Compile the model\n",
    "model.compile(optimizer='adam',\n",
    "              loss={'department_output': 'categorical_crossentropy', \n",
    "                    'attrition_output': 'binary_crossentropy'},\n",
    "              metrics={'department_output': 'accuracy', \n",
    "                       'attrition_output': 'accuracy'})\n",
    "\n",
    "# Summarize the model\n",
    "model.summary()"
   ]
  },
  {
   "cell_type": "code",
   "execution_count": 45,
   "metadata": {},
   "outputs": [
    {
     "name": "stdout",
     "output_type": "stream",
     "text": [
      "X_train columns: Index(['Education', 'Age', 'DistanceFromHome', 'JobSatisfaction',\n",
      "       'StockOptionLevel', 'WorkLifeBalance', 'YearsAtCompany',\n",
      "       'YearsSinceLastPromotion', 'NumCompaniesWorked', 'OverTime_No',\n",
      "       'OverTime_Yes'],\n",
      "      dtype='object')\n",
      "X_test columns: Index(['Education', 'Age', 'DistanceFromHome', 'JobSatisfaction',\n",
      "       'StockOptionLevel', 'WorkLifeBalance', 'YearsAtCompany',\n",
      "       'YearsSinceLastPromotion', 'NumCompaniesWorked', 'OverTime_No',\n",
      "       'OverTime_Yes'],\n",
      "      dtype='object')\n",
      "Number of features in X_train: 11\n"
     ]
    }
   ],
   "source": [
    "# Exploration Step\n",
    "\n",
    "print(\"X_train columns:\", X_train.columns)\n",
    "print(\"X_test columns:\", X_test.columns)\n",
    "print(\"Number of features in X_train:\", len(X_train.columns))"
   ]
  },
  {
   "cell_type": "code",
   "execution_count": 46,
   "metadata": {
    "colab": {
     "base_uri": "https://localhost:8080/"
    },
    "id": "c8oGy0dpGc3U",
    "outputId": "cc667d43-28cf-42d4-d719-c2bc02888d30"
   },
   "outputs": [
    {
     "name": "stdout",
     "output_type": "stream",
     "text": [
      "Epoch 1/100\n",
      "\u001b[1m35/35\u001b[0m \u001b[32m━━━━━━━━━━━━━━━━━━━━\u001b[0m\u001b[37m\u001b[0m \u001b[1m1s\u001b[0m 3ms/step - attrition_output_accuracy: 0.7745 - attrition_output_loss: 0.5988 - department_output_accuracy: 0.6219 - department_output_loss: 0.9129 - loss: 1.5120 - val_attrition_output_accuracy: 0.8152 - val_attrition_output_loss: 0.4650 - val_department_output_accuracy: 0.6413 - val_department_output_loss: 0.7641 - val_loss: 1.2455\n",
      "Epoch 2/100\n",
      "\u001b[1m35/35\u001b[0m \u001b[32m━━━━━━━━━━━━━━━━━━━━\u001b[0m\u001b[37m\u001b[0m \u001b[1m0s\u001b[0m 1ms/step - attrition_output_accuracy: 0.8476 - attrition_output_loss: 0.4175 - department_output_accuracy: 0.6729 - department_output_loss: 0.7578 - loss: 1.1753 - val_attrition_output_accuracy: 0.8152 - val_attrition_output_loss: 0.4331 - val_department_output_accuracy: 0.6413 - val_department_output_loss: 0.7749 - val_loss: 1.2225\n",
      "Epoch 3/100\n",
      "\u001b[1m35/35\u001b[0m \u001b[32m━━━━━━━━━━━━━━━━━━━━\u001b[0m\u001b[37m\u001b[0m \u001b[1m0s\u001b[0m 1ms/step - attrition_output_accuracy: 0.8424 - attrition_output_loss: 0.3990 - department_output_accuracy: 0.6539 - department_output_loss: 0.7777 - loss: 1.1765 - val_attrition_output_accuracy: 0.8152 - val_attrition_output_loss: 0.4233 - val_department_output_accuracy: 0.6386 - val_department_output_loss: 0.7731 - val_loss: 1.2122\n",
      "Epoch 4/100\n",
      "\u001b[1m35/35\u001b[0m \u001b[32m━━━━━━━━━━━━━━━━━━━━\u001b[0m\u001b[37m\u001b[0m \u001b[1m0s\u001b[0m 991us/step - attrition_output_accuracy: 0.8509 - attrition_output_loss: 0.3778 - department_output_accuracy: 0.6453 - department_output_loss: 0.7625 - loss: 1.1402 - val_attrition_output_accuracy: 0.8152 - val_attrition_output_loss: 0.4124 - val_department_output_accuracy: 0.6413 - val_department_output_loss: 0.7719 - val_loss: 1.2024\n",
      "Epoch 5/100\n",
      "\u001b[1m35/35\u001b[0m \u001b[32m━━━━━━━━━━━━━━━━━━━━\u001b[0m\u001b[37m\u001b[0m \u001b[1m0s\u001b[0m 986us/step - attrition_output_accuracy: 0.8504 - attrition_output_loss: 0.3727 - department_output_accuracy: 0.6667 - department_output_loss: 0.7410 - loss: 1.1136 - val_attrition_output_accuracy: 0.8234 - val_attrition_output_loss: 0.4091 - val_department_output_accuracy: 0.6359 - val_department_output_loss: 0.7797 - val_loss: 1.2086\n",
      "Epoch 6/100\n",
      "\u001b[1m35/35\u001b[0m \u001b[32m━━━━━━━━━━━━━━━━━━━━\u001b[0m\u001b[37m\u001b[0m \u001b[1m0s\u001b[0m 1ms/step - attrition_output_accuracy: 0.8465 - attrition_output_loss: 0.3775 - department_output_accuracy: 0.6658 - department_output_loss: 0.7095 - loss: 1.0870 - val_attrition_output_accuracy: 0.8342 - val_attrition_output_loss: 0.4000 - val_department_output_accuracy: 0.6386 - val_department_output_loss: 0.7757 - val_loss: 1.1960\n",
      "Epoch 7/100\n",
      "\u001b[1m35/35\u001b[0m \u001b[32m━━━━━━━━━━━━━━━━━━━━\u001b[0m\u001b[37m\u001b[0m \u001b[1m0s\u001b[0m 1ms/step - attrition_output_accuracy: 0.8762 - attrition_output_loss: 0.3394 - department_output_accuracy: 0.6678 - department_output_loss: 0.7333 - loss: 1.0728 - val_attrition_output_accuracy: 0.8370 - val_attrition_output_loss: 0.3958 - val_department_output_accuracy: 0.6250 - val_department_output_loss: 0.7864 - val_loss: 1.2008\n",
      "Epoch 8/100\n",
      "\u001b[1m35/35\u001b[0m \u001b[32m━━━━━━━━━━━━━━━━━━━━\u001b[0m\u001b[37m\u001b[0m \u001b[1m0s\u001b[0m 1ms/step - attrition_output_accuracy: 0.8740 - attrition_output_loss: 0.3473 - department_output_accuracy: 0.6626 - department_output_loss: 0.7332 - loss: 1.0807 - val_attrition_output_accuracy: 0.8370 - val_attrition_output_loss: 0.3871 - val_department_output_accuracy: 0.6277 - val_department_output_loss: 0.7896 - val_loss: 1.1957\n",
      "Epoch 9/100\n",
      "\u001b[1m35/35\u001b[0m \u001b[32m━━━━━━━━━━━━━━━━━━━━\u001b[0m\u001b[37m\u001b[0m \u001b[1m0s\u001b[0m 1ms/step - attrition_output_accuracy: 0.8869 - attrition_output_loss: 0.3161 - department_output_accuracy: 0.6626 - department_output_loss: 0.7296 - loss: 1.0456 - val_attrition_output_accuracy: 0.8370 - val_attrition_output_loss: 0.3843 - val_department_output_accuracy: 0.6304 - val_department_output_loss: 0.7931 - val_loss: 1.1979\n",
      "Epoch 10/100\n",
      "\u001b[1m35/35\u001b[0m \u001b[32m━━━━━━━━━━━━━━━━━━━━\u001b[0m\u001b[37m\u001b[0m \u001b[1m0s\u001b[0m 1ms/step - attrition_output_accuracy: 0.8743 - attrition_output_loss: 0.3245 - department_output_accuracy: 0.6812 - department_output_loss: 0.6921 - loss: 1.0167 - val_attrition_output_accuracy: 0.8370 - val_attrition_output_loss: 0.3890 - val_department_output_accuracy: 0.6277 - val_department_output_loss: 0.8054 - val_loss: 1.2195\n",
      "Epoch 11/100\n",
      "\u001b[1m35/35\u001b[0m \u001b[32m━━━━━━━━━━━━━━━━━━━━\u001b[0m\u001b[37m\u001b[0m \u001b[1m0s\u001b[0m 1ms/step - attrition_output_accuracy: 0.8870 - attrition_output_loss: 0.3071 - department_output_accuracy: 0.6837 - department_output_loss: 0.6816 - loss: 0.9883 - val_attrition_output_accuracy: 0.8370 - val_attrition_output_loss: 0.3864 - val_department_output_accuracy: 0.6168 - val_department_output_loss: 0.8041 - val_loss: 1.2128\n",
      "Epoch 12/100\n",
      "\u001b[1m35/35\u001b[0m \u001b[32m━━━━━━━━━━━━━━━━━━━━\u001b[0m\u001b[37m\u001b[0m \u001b[1m0s\u001b[0m 990us/step - attrition_output_accuracy: 0.8910 - attrition_output_loss: 0.2820 - department_output_accuracy: 0.6847 - department_output_loss: 0.7068 - loss: 0.9887 - val_attrition_output_accuracy: 0.8315 - val_attrition_output_loss: 0.3887 - val_department_output_accuracy: 0.6168 - val_department_output_loss: 0.8218 - val_loss: 1.2367\n",
      "Epoch 13/100\n",
      "\u001b[1m35/35\u001b[0m \u001b[32m━━━━━━━━━━━━━━━━━━━━\u001b[0m\u001b[37m\u001b[0m \u001b[1m0s\u001b[0m 1ms/step - attrition_output_accuracy: 0.8903 - attrition_output_loss: 0.2981 - department_output_accuracy: 0.6944 - department_output_loss: 0.6578 - loss: 0.9559 - val_attrition_output_accuracy: 0.8342 - val_attrition_output_loss: 0.3900 - val_department_output_accuracy: 0.5652 - val_department_output_loss: 0.8325 - val_loss: 1.2422\n",
      "Epoch 14/100\n",
      "\u001b[1m35/35\u001b[0m \u001b[32m━━━━━━━━━━━━━━━━━━━━\u001b[0m\u001b[37m\u001b[0m \u001b[1m0s\u001b[0m 1ms/step - attrition_output_accuracy: 0.9149 - attrition_output_loss: 0.2812 - department_output_accuracy: 0.7201 - department_output_loss: 0.6514 - loss: 0.9326 - val_attrition_output_accuracy: 0.8370 - val_attrition_output_loss: 0.3957 - val_department_output_accuracy: 0.5870 - val_department_output_loss: 0.8398 - val_loss: 1.2590\n",
      "Epoch 15/100\n",
      "\u001b[1m35/35\u001b[0m \u001b[32m━━━━━━━━━━━━━━━━━━━━\u001b[0m\u001b[37m\u001b[0m \u001b[1m0s\u001b[0m 1ms/step - attrition_output_accuracy: 0.8754 - attrition_output_loss: 0.3106 - department_output_accuracy: 0.7200 - department_output_loss: 0.6538 - loss: 0.9644 - val_attrition_output_accuracy: 0.8397 - val_attrition_output_loss: 0.4025 - val_department_output_accuracy: 0.5598 - val_department_output_loss: 0.8412 - val_loss: 1.2661\n",
      "Epoch 16/100\n",
      "\u001b[1m35/35\u001b[0m \u001b[32m━━━━━━━━━━━━━━━━━━━━\u001b[0m\u001b[37m\u001b[0m \u001b[1m0s\u001b[0m 1ms/step - attrition_output_accuracy: 0.8813 - attrition_output_loss: 0.3058 - department_output_accuracy: 0.7013 - department_output_loss: 0.6460 - loss: 0.9519 - val_attrition_output_accuracy: 0.8451 - val_attrition_output_loss: 0.4187 - val_department_output_accuracy: 0.5870 - val_department_output_loss: 0.8410 - val_loss: 1.2839\n",
      "Epoch 17/100\n",
      "\u001b[1m35/35\u001b[0m \u001b[32m━━━━━━━━━━━━━━━━━━━━\u001b[0m\u001b[37m\u001b[0m \u001b[1m0s\u001b[0m 1ms/step - attrition_output_accuracy: 0.9071 - attrition_output_loss: 0.2533 - department_output_accuracy: 0.7217 - department_output_loss: 0.6207 - loss: 0.8737 - val_attrition_output_accuracy: 0.8424 - val_attrition_output_loss: 0.4154 - val_department_output_accuracy: 0.5571 - val_department_output_loss: 0.8648 - val_loss: 1.2994\n",
      "Epoch 18/100\n",
      "\u001b[1m35/35\u001b[0m \u001b[32m━━━━━━━━━━━━━━━━━━━━\u001b[0m\u001b[37m\u001b[0m \u001b[1m0s\u001b[0m 1ms/step - attrition_output_accuracy: 0.9060 - attrition_output_loss: 0.2688 - department_output_accuracy: 0.7256 - department_output_loss: 0.6134 - loss: 0.8821 - val_attrition_output_accuracy: 0.8261 - val_attrition_output_loss: 0.4069 - val_department_output_accuracy: 0.5489 - val_department_output_loss: 0.8824 - val_loss: 1.3120\n",
      "Epoch 19/100\n",
      "\u001b[1m35/35\u001b[0m \u001b[32m━━━━━━━━━━━━━━━━━━━━\u001b[0m\u001b[37m\u001b[0m \u001b[1m0s\u001b[0m 1ms/step - attrition_output_accuracy: 0.9033 - attrition_output_loss: 0.2520 - department_output_accuracy: 0.7282 - department_output_loss: 0.6363 - loss: 0.8880 - val_attrition_output_accuracy: 0.8315 - val_attrition_output_loss: 0.4132 - val_department_output_accuracy: 0.5842 - val_department_output_loss: 0.8743 - val_loss: 1.3122\n",
      "Epoch 20/100\n",
      "\u001b[1m35/35\u001b[0m \u001b[32m━━━━━━━━━━━━━━━━━━━━\u001b[0m\u001b[37m\u001b[0m \u001b[1m0s\u001b[0m 3ms/step - attrition_output_accuracy: 0.9061 - attrition_output_loss: 0.2397 - department_output_accuracy: 0.7342 - department_output_loss: 0.6212 - loss: 0.8610 - val_attrition_output_accuracy: 0.8315 - val_attrition_output_loss: 0.4224 - val_department_output_accuracy: 0.5734 - val_department_output_loss: 0.8897 - val_loss: 1.3390\n",
      "Epoch 21/100\n",
      "\u001b[1m35/35\u001b[0m \u001b[32m━━━━━━━━━━━━━━━━━━━━\u001b[0m\u001b[37m\u001b[0m \u001b[1m0s\u001b[0m 1ms/step - attrition_output_accuracy: 0.9158 - attrition_output_loss: 0.2384 - department_output_accuracy: 0.7770 - department_output_loss: 0.5544 - loss: 0.7930 - val_attrition_output_accuracy: 0.8207 - val_attrition_output_loss: 0.4251 - val_department_output_accuracy: 0.5543 - val_department_output_loss: 0.8919 - val_loss: 1.3375\n",
      "Epoch 22/100\n",
      "\u001b[1m35/35\u001b[0m \u001b[32m━━━━━━━━━━━━━━━━━━━━\u001b[0m\u001b[37m\u001b[0m \u001b[1m0s\u001b[0m 1ms/step - attrition_output_accuracy: 0.9189 - attrition_output_loss: 0.2353 - department_output_accuracy: 0.7705 - department_output_loss: 0.5673 - loss: 0.8024 - val_attrition_output_accuracy: 0.8288 - val_attrition_output_loss: 0.4310 - val_department_output_accuracy: 0.5652 - val_department_output_loss: 0.8946 - val_loss: 1.3512\n",
      "Epoch 23/100\n",
      "\u001b[1m35/35\u001b[0m \u001b[32m━━━━━━━━━━━━━━━━━━━━\u001b[0m\u001b[37m\u001b[0m \u001b[1m0s\u001b[0m 1ms/step - attrition_output_accuracy: 0.9141 - attrition_output_loss: 0.2404 - department_output_accuracy: 0.7643 - department_output_loss: 0.5342 - loss: 0.7746 - val_attrition_output_accuracy: 0.8315 - val_attrition_output_loss: 0.4415 - val_department_output_accuracy: 0.5625 - val_department_output_loss: 0.9101 - val_loss: 1.3781\n",
      "Epoch 24/100\n",
      "\u001b[1m35/35\u001b[0m \u001b[32m━━━━━━━━━━━━━━━━━━━━\u001b[0m\u001b[37m\u001b[0m \u001b[1m0s\u001b[0m 1ms/step - attrition_output_accuracy: 0.9288 - attrition_output_loss: 0.2084 - department_output_accuracy: 0.7557 - department_output_loss: 0.5739 - loss: 0.7825 - val_attrition_output_accuracy: 0.8179 - val_attrition_output_loss: 0.4458 - val_department_output_accuracy: 0.5571 - val_department_output_loss: 0.9471 - val_loss: 1.4173\n",
      "Epoch 25/100\n",
      "\u001b[1m35/35\u001b[0m \u001b[32m━━━━━━━━━━━━━━━━━━━━\u001b[0m\u001b[37m\u001b[0m \u001b[1m0s\u001b[0m 1ms/step - attrition_output_accuracy: 0.9328 - attrition_output_loss: 0.1946 - department_output_accuracy: 0.7927 - department_output_loss: 0.5214 - loss: 0.7159 - val_attrition_output_accuracy: 0.8071 - val_attrition_output_loss: 0.4622 - val_department_output_accuracy: 0.5897 - val_department_output_loss: 0.9373 - val_loss: 1.4305\n",
      "Epoch 26/100\n",
      "\u001b[1m35/35\u001b[0m \u001b[32m━━━━━━━━━━━━━━━━━━━━\u001b[0m\u001b[37m\u001b[0m \u001b[1m0s\u001b[0m 1ms/step - attrition_output_accuracy: 0.9222 - attrition_output_loss: 0.2157 - department_output_accuracy: 0.7871 - department_output_loss: 0.5074 - loss: 0.7228 - val_attrition_output_accuracy: 0.8179 - val_attrition_output_loss: 0.4570 - val_department_output_accuracy: 0.5870 - val_department_output_loss: 0.9411 - val_loss: 1.4268\n",
      "Epoch 27/100\n",
      "\u001b[1m35/35\u001b[0m \u001b[32m━━━━━━━━━━━━━━━━━━━━\u001b[0m\u001b[37m\u001b[0m \u001b[1m0s\u001b[0m 1ms/step - attrition_output_accuracy: 0.9325 - attrition_output_loss: 0.1897 - department_output_accuracy: 0.7976 - department_output_loss: 0.5092 - loss: 0.6988 - val_attrition_output_accuracy: 0.8207 - val_attrition_output_loss: 0.4846 - val_department_output_accuracy: 0.5462 - val_department_output_loss: 0.9758 - val_loss: 1.4837\n",
      "Epoch 28/100\n",
      "\u001b[1m35/35\u001b[0m \u001b[32m━━━━━━━━━━━━━━━━━━━━\u001b[0m\u001b[37m\u001b[0m \u001b[1m0s\u001b[0m 1ms/step - attrition_output_accuracy: 0.9048 - attrition_output_loss: 0.2295 - department_output_accuracy: 0.7922 - department_output_loss: 0.4829 - loss: 0.7121 - val_attrition_output_accuracy: 0.8288 - val_attrition_output_loss: 0.5037 - val_department_output_accuracy: 0.5408 - val_department_output_loss: 0.9915 - val_loss: 1.5202\n",
      "Epoch 29/100\n",
      "\u001b[1m35/35\u001b[0m \u001b[32m━━━━━━━━━━━━━━━━━━━━\u001b[0m\u001b[37m\u001b[0m \u001b[1m0s\u001b[0m 1ms/step - attrition_output_accuracy: 0.9319 - attrition_output_loss: 0.1933 - department_output_accuracy: 0.8084 - department_output_loss: 0.4950 - loss: 0.6882 - val_attrition_output_accuracy: 0.8152 - val_attrition_output_loss: 0.4762 - val_department_output_accuracy: 0.5842 - val_department_output_loss: 1.0054 - val_loss: 1.5133\n",
      "Epoch 30/100\n",
      "\u001b[1m35/35\u001b[0m \u001b[32m━━━━━━━━━━━━━━━━━━━━\u001b[0m\u001b[37m\u001b[0m \u001b[1m0s\u001b[0m 1ms/step - attrition_output_accuracy: 0.9297 - attrition_output_loss: 0.1895 - department_output_accuracy: 0.8031 - department_output_loss: 0.5075 - loss: 0.6972 - val_attrition_output_accuracy: 0.7690 - val_attrition_output_loss: 0.4991 - val_department_output_accuracy: 0.5516 - val_department_output_loss: 1.0121 - val_loss: 1.5378\n",
      "Epoch 31/100\n",
      "\u001b[1m35/35\u001b[0m \u001b[32m━━━━━━━━━━━━━━━━━━━━\u001b[0m\u001b[37m\u001b[0m \u001b[1m0s\u001b[0m 1ms/step - attrition_output_accuracy: 0.9353 - attrition_output_loss: 0.1952 - department_output_accuracy: 0.8196 - department_output_loss: 0.4434 - loss: 0.6386 - val_attrition_output_accuracy: 0.8179 - val_attrition_output_loss: 0.4879 - val_department_output_accuracy: 0.5598 - val_department_output_loss: 1.0422 - val_loss: 1.5588\n",
      "Epoch 32/100\n",
      "\u001b[1m35/35\u001b[0m \u001b[32m━━━━━━━━━━━━━━━━━━━━\u001b[0m\u001b[37m\u001b[0m \u001b[1m0s\u001b[0m 1ms/step - attrition_output_accuracy: 0.9251 - attrition_output_loss: 0.1852 - department_output_accuracy: 0.8218 - department_output_loss: 0.4577 - loss: 0.6429 - val_attrition_output_accuracy: 0.8125 - val_attrition_output_loss: 0.4949 - val_department_output_accuracy: 0.5380 - val_department_output_loss: 1.0511 - val_loss: 1.5722\n",
      "Epoch 33/100\n",
      "\u001b[1m35/35\u001b[0m \u001b[32m━━━━━━━━━━━━━━━━━━━━\u001b[0m\u001b[37m\u001b[0m \u001b[1m0s\u001b[0m 1ms/step - attrition_output_accuracy: 0.9298 - attrition_output_loss: 0.1871 - department_output_accuracy: 0.8478 - department_output_loss: 0.4218 - loss: 0.6089 - val_attrition_output_accuracy: 0.7880 - val_attrition_output_loss: 0.5168 - val_department_output_accuracy: 0.5353 - val_department_output_loss: 1.0898 - val_loss: 1.6329\n",
      "Epoch 34/100\n",
      "\u001b[1m35/35\u001b[0m \u001b[32m━━━━━━━━━━━━━━━━━━━━\u001b[0m\u001b[37m\u001b[0m \u001b[1m0s\u001b[0m 1ms/step - attrition_output_accuracy: 0.9379 - attrition_output_loss: 0.1876 - department_output_accuracy: 0.8257 - department_output_loss: 0.4172 - loss: 0.6048 - val_attrition_output_accuracy: 0.8098 - val_attrition_output_loss: 0.5609 - val_department_output_accuracy: 0.5761 - val_department_output_loss: 1.0879 - val_loss: 1.6882\n",
      "Epoch 35/100\n",
      "\u001b[1m35/35\u001b[0m \u001b[32m━━━━━━━━━━━━━━━━━━━━\u001b[0m\u001b[37m\u001b[0m \u001b[1m0s\u001b[0m 1ms/step - attrition_output_accuracy: 0.9141 - attrition_output_loss: 0.1909 - department_output_accuracy: 0.8408 - department_output_loss: 0.4076 - loss: 0.5984 - val_attrition_output_accuracy: 0.8043 - val_attrition_output_loss: 0.5481 - val_department_output_accuracy: 0.5408 - val_department_output_loss: 1.0930 - val_loss: 1.6700\n",
      "Epoch 36/100\n",
      "\u001b[1m35/35\u001b[0m \u001b[32m━━━━━━━━━━━━━━━━━━━━\u001b[0m\u001b[37m\u001b[0m \u001b[1m0s\u001b[0m 1ms/step - attrition_output_accuracy: 0.9321 - attrition_output_loss: 0.1647 - department_output_accuracy: 0.8631 - department_output_loss: 0.3847 - loss: 0.5493 - val_attrition_output_accuracy: 0.8071 - val_attrition_output_loss: 0.5416 - val_department_output_accuracy: 0.5163 - val_department_output_loss: 1.1665 - val_loss: 1.7297\n",
      "Epoch 37/100\n",
      "\u001b[1m35/35\u001b[0m \u001b[32m━━━━━━━━━━━━━━━━━━━━\u001b[0m\u001b[37m\u001b[0m \u001b[1m0s\u001b[0m 1ms/step - attrition_output_accuracy: 0.9500 - attrition_output_loss: 0.1562 - department_output_accuracy: 0.8511 - department_output_loss: 0.4026 - loss: 0.5586 - val_attrition_output_accuracy: 0.8071 - val_attrition_output_loss: 0.5375 - val_department_output_accuracy: 0.5625 - val_department_output_loss: 1.1457 - val_loss: 1.7193\n",
      "Epoch 38/100\n",
      "\u001b[1m35/35\u001b[0m \u001b[32m━━━━━━━━━━━━━━━━━━━━\u001b[0m\u001b[37m\u001b[0m \u001b[1m0s\u001b[0m 1ms/step - attrition_output_accuracy: 0.9548 - attrition_output_loss: 0.1410 - department_output_accuracy: 0.8505 - department_output_loss: 0.3830 - loss: 0.5241 - val_attrition_output_accuracy: 0.8152 - val_attrition_output_loss: 0.5855 - val_department_output_accuracy: 0.5516 - val_department_output_loss: 1.1356 - val_loss: 1.7539\n",
      "Epoch 39/100\n",
      "\u001b[1m35/35\u001b[0m \u001b[32m━━━━━━━━━━━━━━━━━━━━\u001b[0m\u001b[37m\u001b[0m \u001b[1m0s\u001b[0m 1ms/step - attrition_output_accuracy: 0.9533 - attrition_output_loss: 0.1296 - department_output_accuracy: 0.8865 - department_output_loss: 0.3459 - loss: 0.4754 - val_attrition_output_accuracy: 0.7826 - val_attrition_output_loss: 0.5784 - val_department_output_accuracy: 0.5462 - val_department_output_loss: 1.1864 - val_loss: 1.7998\n",
      "Epoch 40/100\n",
      "\u001b[1m35/35\u001b[0m \u001b[32m━━━━━━━━━━━━━━━━━━━━\u001b[0m\u001b[37m\u001b[0m \u001b[1m0s\u001b[0m 1ms/step - attrition_output_accuracy: 0.9530 - attrition_output_loss: 0.1356 - department_output_accuracy: 0.8754 - department_output_loss: 0.3396 - loss: 0.4751 - val_attrition_output_accuracy: 0.8043 - val_attrition_output_loss: 0.5582 - val_department_output_accuracy: 0.5625 - val_department_output_loss: 1.1655 - val_loss: 1.7605\n",
      "Epoch 41/100\n",
      "\u001b[1m35/35\u001b[0m \u001b[32m━━━━━━━━━━━━━━━━━━━━\u001b[0m\u001b[37m\u001b[0m \u001b[1m0s\u001b[0m 1ms/step - attrition_output_accuracy: 0.9521 - attrition_output_loss: 0.1377 - department_output_accuracy: 0.8769 - department_output_loss: 0.3323 - loss: 0.4700 - val_attrition_output_accuracy: 0.7989 - val_attrition_output_loss: 0.5986 - val_department_output_accuracy: 0.5625 - val_department_output_loss: 1.2168 - val_loss: 1.8577\n",
      "Epoch 42/100\n",
      "\u001b[1m35/35\u001b[0m \u001b[32m━━━━━━━━━━━━━━━━━━━━\u001b[0m\u001b[37m\u001b[0m \u001b[1m0s\u001b[0m 1ms/step - attrition_output_accuracy: 0.9586 - attrition_output_loss: 0.1398 - department_output_accuracy: 0.8880 - department_output_loss: 0.3065 - loss: 0.4463 - val_attrition_output_accuracy: 0.8043 - val_attrition_output_loss: 0.6067 - val_department_output_accuracy: 0.5462 - val_department_output_loss: 1.2099 - val_loss: 1.8530\n",
      "Epoch 43/100\n",
      "\u001b[1m35/35\u001b[0m \u001b[32m━━━━━━━━━━━━━━━━━━━━\u001b[0m\u001b[37m\u001b[0m \u001b[1m0s\u001b[0m 1ms/step - attrition_output_accuracy: 0.9456 - attrition_output_loss: 0.1365 - department_output_accuracy: 0.8983 - department_output_loss: 0.3174 - loss: 0.4538 - val_attrition_output_accuracy: 0.7880 - val_attrition_output_loss: 0.6334 - val_department_output_accuracy: 0.5299 - val_department_output_loss: 1.2337 - val_loss: 1.9064\n",
      "Epoch 44/100\n",
      "\u001b[1m35/35\u001b[0m \u001b[32m━━━━━━━━━━━━━━━━━━━━\u001b[0m\u001b[37m\u001b[0m \u001b[1m0s\u001b[0m 1ms/step - attrition_output_accuracy: 0.9540 - attrition_output_loss: 0.1365 - department_output_accuracy: 0.9127 - department_output_loss: 0.2877 - loss: 0.4242 - val_attrition_output_accuracy: 0.8043 - val_attrition_output_loss: 0.6081 - val_department_output_accuracy: 0.5353 - val_department_output_loss: 1.2702 - val_loss: 1.9149\n",
      "Epoch 45/100\n",
      "\u001b[1m35/35\u001b[0m \u001b[32m━━━━━━━━━━━━━━━━━━━━\u001b[0m\u001b[37m\u001b[0m \u001b[1m0s\u001b[0m 1ms/step - attrition_output_accuracy: 0.9649 - attrition_output_loss: 0.1108 - department_output_accuracy: 0.9022 - department_output_loss: 0.2921 - loss: 0.4030 - val_attrition_output_accuracy: 0.7908 - val_attrition_output_loss: 0.6359 - val_department_output_accuracy: 0.5435 - val_department_output_loss: 1.3091 - val_loss: 1.9847\n",
      "Epoch 46/100\n",
      "\u001b[1m35/35\u001b[0m \u001b[32m━━━━━━━━━━━━━━━━━━━━\u001b[0m\u001b[37m\u001b[0m \u001b[1m0s\u001b[0m 1ms/step - attrition_output_accuracy: 0.9665 - attrition_output_loss: 0.1036 - department_output_accuracy: 0.9094 - department_output_loss: 0.2714 - loss: 0.3751 - val_attrition_output_accuracy: 0.7853 - val_attrition_output_loss: 0.6405 - val_department_output_accuracy: 0.5326 - val_department_output_loss: 1.3084 - val_loss: 1.9871\n",
      "Epoch 47/100\n",
      "\u001b[1m35/35\u001b[0m \u001b[32m━━━━━━━━━━━━━━━━━━━━\u001b[0m\u001b[37m\u001b[0m \u001b[1m0s\u001b[0m 1ms/step - attrition_output_accuracy: 0.9623 - attrition_output_loss: 0.1177 - department_output_accuracy: 0.9103 - department_output_loss: 0.2690 - loss: 0.3867 - val_attrition_output_accuracy: 0.7826 - val_attrition_output_loss: 0.6498 - val_department_output_accuracy: 0.5652 - val_department_output_loss: 1.3376 - val_loss: 2.0331\n",
      "Epoch 48/100\n",
      "\u001b[1m35/35\u001b[0m \u001b[32m━━━━━━━━━━━━━━━━━━━━\u001b[0m\u001b[37m\u001b[0m \u001b[1m0s\u001b[0m 1ms/step - attrition_output_accuracy: 0.9719 - attrition_output_loss: 0.1071 - department_output_accuracy: 0.9310 - department_output_loss: 0.2479 - loss: 0.3549 - val_attrition_output_accuracy: 0.8016 - val_attrition_output_loss: 0.7155 - val_department_output_accuracy: 0.5408 - val_department_output_loss: 1.3412 - val_loss: 2.0961\n",
      "Epoch 49/100\n",
      "\u001b[1m35/35\u001b[0m \u001b[32m━━━━━━━━━━━━━━━━━━━━\u001b[0m\u001b[37m\u001b[0m \u001b[1m0s\u001b[0m 1ms/step - attrition_output_accuracy: 0.9591 - attrition_output_loss: 0.1142 - department_output_accuracy: 0.9034 - department_output_loss: 0.2676 - loss: 0.3820 - val_attrition_output_accuracy: 0.7935 - val_attrition_output_loss: 0.6899 - val_department_output_accuracy: 0.5435 - val_department_output_loss: 1.4072 - val_loss: 2.1445\n",
      "Epoch 50/100\n",
      "\u001b[1m35/35\u001b[0m \u001b[32m━━━━━━━━━━━━━━━━━━━━\u001b[0m\u001b[37m\u001b[0m \u001b[1m0s\u001b[0m 1ms/step - attrition_output_accuracy: 0.9810 - attrition_output_loss: 0.0799 - department_output_accuracy: 0.9357 - department_output_loss: 0.2258 - loss: 0.3057 - val_attrition_output_accuracy: 0.7935 - val_attrition_output_loss: 0.6873 - val_department_output_accuracy: 0.5408 - val_department_output_loss: 1.4390 - val_loss: 2.1672\n",
      "Epoch 51/100\n",
      "\u001b[1m35/35\u001b[0m \u001b[32m━━━━━━━━━━━━━━━━━━━━\u001b[0m\u001b[37m\u001b[0m \u001b[1m0s\u001b[0m 1ms/step - attrition_output_accuracy: 0.9672 - attrition_output_loss: 0.0984 - department_output_accuracy: 0.9317 - department_output_loss: 0.2315 - loss: 0.3299 - val_attrition_output_accuracy: 0.8071 - val_attrition_output_loss: 0.7084 - val_department_output_accuracy: 0.5598 - val_department_output_loss: 1.4774 - val_loss: 2.2372\n",
      "Epoch 52/100\n",
      "\u001b[1m35/35\u001b[0m \u001b[32m━━━━━━━━━━━━━━━━━━━━\u001b[0m\u001b[37m\u001b[0m \u001b[1m0s\u001b[0m 1ms/step - attrition_output_accuracy: 0.9625 - attrition_output_loss: 0.1026 - department_output_accuracy: 0.9294 - department_output_loss: 0.2350 - loss: 0.3376 - val_attrition_output_accuracy: 0.7880 - val_attrition_output_loss: 0.7177 - val_department_output_accuracy: 0.5571 - val_department_output_loss: 1.4589 - val_loss: 2.2312\n",
      "Epoch 53/100\n",
      "\u001b[1m35/35\u001b[0m \u001b[32m━━━━━━━━━━━━━━━━━━━━\u001b[0m\u001b[37m\u001b[0m \u001b[1m0s\u001b[0m 3ms/step - attrition_output_accuracy: 0.9661 - attrition_output_loss: 0.0964 - department_output_accuracy: 0.9348 - department_output_loss: 0.2176 - loss: 0.3140 - val_attrition_output_accuracy: 0.7663 - val_attrition_output_loss: 0.7235 - val_department_output_accuracy: 0.5652 - val_department_output_loss: 1.4526 - val_loss: 2.2288\n",
      "Epoch 54/100\n",
      "\u001b[1m35/35\u001b[0m \u001b[32m━━━━━━━━━━━━━━━━━━━━\u001b[0m\u001b[37m\u001b[0m \u001b[1m0s\u001b[0m 1ms/step - attrition_output_accuracy: 0.9770 - attrition_output_loss: 0.0887 - department_output_accuracy: 0.9404 - department_output_loss: 0.2047 - loss: 0.2935 - val_attrition_output_accuracy: 0.7717 - val_attrition_output_loss: 0.7559 - val_department_output_accuracy: 0.5571 - val_department_output_loss: 1.5205 - val_loss: 2.3343\n",
      "Epoch 55/100\n",
      "\u001b[1m35/35\u001b[0m \u001b[32m━━━━━━━━━━━━━━━━━━━━\u001b[0m\u001b[37m\u001b[0m \u001b[1m0s\u001b[0m 1ms/step - attrition_output_accuracy: 0.9734 - attrition_output_loss: 0.0895 - department_output_accuracy: 0.9289 - department_output_loss: 0.2149 - loss: 0.3042 - val_attrition_output_accuracy: 0.8043 - val_attrition_output_loss: 0.7864 - val_department_output_accuracy: 0.5299 - val_department_output_loss: 1.5331 - val_loss: 2.3718\n",
      "Epoch 56/100\n",
      "\u001b[1m35/35\u001b[0m \u001b[32m━━━━━━━━━━━━━━━━━━━━\u001b[0m\u001b[37m\u001b[0m \u001b[1m0s\u001b[0m 1ms/step - attrition_output_accuracy: 0.9661 - attrition_output_loss: 0.0845 - department_output_accuracy: 0.9470 - department_output_loss: 0.1950 - loss: 0.2795 - val_attrition_output_accuracy: 0.8043 - val_attrition_output_loss: 0.7495 - val_department_output_accuracy: 0.5380 - val_department_output_loss: 1.6165 - val_loss: 2.4154\n",
      "Epoch 57/100\n",
      "\u001b[1m35/35\u001b[0m \u001b[32m━━━━━━━━━━━━━━━━━━━━\u001b[0m\u001b[37m\u001b[0m \u001b[1m0s\u001b[0m 1ms/step - attrition_output_accuracy: 0.9760 - attrition_output_loss: 0.0833 - department_output_accuracy: 0.9570 - department_output_loss: 0.1836 - loss: 0.2667 - val_attrition_output_accuracy: 0.8016 - val_attrition_output_loss: 0.7700 - val_department_output_accuracy: 0.5408 - val_department_output_loss: 1.6273 - val_loss: 2.4518\n",
      "Epoch 58/100\n",
      "\u001b[1m35/35\u001b[0m \u001b[32m━━━━━━━━━━━━━━━━━━━━\u001b[0m\u001b[37m\u001b[0m \u001b[1m0s\u001b[0m 1ms/step - attrition_output_accuracy: 0.9786 - attrition_output_loss: 0.0829 - department_output_accuracy: 0.9395 - department_output_loss: 0.1972 - loss: 0.2802 - val_attrition_output_accuracy: 0.8071 - val_attrition_output_loss: 0.8170 - val_department_output_accuracy: 0.5435 - val_department_output_loss: 1.6932 - val_loss: 2.5659\n",
      "Epoch 59/100\n",
      "\u001b[1m35/35\u001b[0m \u001b[32m━━━━━━━━━━━━━━━━━━━━\u001b[0m\u001b[37m\u001b[0m \u001b[1m0s\u001b[0m 1ms/step - attrition_output_accuracy: 0.9760 - attrition_output_loss: 0.0743 - department_output_accuracy: 0.9468 - department_output_loss: 0.1768 - loss: 0.2509 - val_attrition_output_accuracy: 0.8071 - val_attrition_output_loss: 0.8043 - val_department_output_accuracy: 0.5598 - val_department_output_loss: 1.6802 - val_loss: 2.5471\n",
      "Epoch 60/100\n",
      "\u001b[1m35/35\u001b[0m \u001b[32m━━━━━━━━━━━━━━━━━━━━\u001b[0m\u001b[37m\u001b[0m \u001b[1m0s\u001b[0m 1ms/step - attrition_output_accuracy: 0.9860 - attrition_output_loss: 0.0717 - department_output_accuracy: 0.9582 - department_output_loss: 0.1654 - loss: 0.2370 - val_attrition_output_accuracy: 0.7989 - val_attrition_output_loss: 0.8061 - val_department_output_accuracy: 0.5299 - val_department_output_loss: 1.7605 - val_loss: 2.6267\n",
      "Epoch 61/100\n",
      "\u001b[1m35/35\u001b[0m \u001b[32m━━━━━━━━━━━━━━━━━━━━\u001b[0m\u001b[37m\u001b[0m \u001b[1m0s\u001b[0m 1ms/step - attrition_output_accuracy: 0.9903 - attrition_output_loss: 0.0576 - department_output_accuracy: 0.9536 - department_output_loss: 0.1791 - loss: 0.2367 - val_attrition_output_accuracy: 0.7908 - val_attrition_output_loss: 0.8370 - val_department_output_accuracy: 0.5462 - val_department_output_loss: 1.7355 - val_loss: 2.6332\n",
      "Epoch 62/100\n",
      "\u001b[1m35/35\u001b[0m \u001b[32m━━━━━━━━━━━━━━━━━━━━\u001b[0m\u001b[37m\u001b[0m \u001b[1m0s\u001b[0m 1ms/step - attrition_output_accuracy: 0.9851 - attrition_output_loss: 0.0551 - department_output_accuracy: 0.9459 - department_output_loss: 0.1601 - loss: 0.2153 - val_attrition_output_accuracy: 0.7935 - val_attrition_output_loss: 0.8268 - val_department_output_accuracy: 0.5489 - val_department_output_loss: 1.7750 - val_loss: 2.6620\n",
      "Epoch 63/100\n",
      "\u001b[1m35/35\u001b[0m \u001b[32m━━━━━━━━━━━━━━━━━━━━\u001b[0m\u001b[37m\u001b[0m \u001b[1m0s\u001b[0m 1ms/step - attrition_output_accuracy: 0.9897 - attrition_output_loss: 0.0577 - department_output_accuracy: 0.9635 - department_output_loss: 0.1483 - loss: 0.2059 - val_attrition_output_accuracy: 0.8016 - val_attrition_output_loss: 0.8597 - val_department_output_accuracy: 0.5598 - val_department_output_loss: 1.7978 - val_loss: 2.7242\n",
      "Epoch 64/100\n",
      "\u001b[1m35/35\u001b[0m \u001b[32m━━━━━━━━━━━━━━━━━━━━\u001b[0m\u001b[37m\u001b[0m \u001b[1m0s\u001b[0m 1ms/step - attrition_output_accuracy: 0.9865 - attrition_output_loss: 0.0513 - department_output_accuracy: 0.9715 - department_output_loss: 0.1452 - loss: 0.1964 - val_attrition_output_accuracy: 0.7935 - val_attrition_output_loss: 0.8686 - val_department_output_accuracy: 0.5462 - val_department_output_loss: 1.8408 - val_loss: 2.7724\n",
      "Epoch 65/100\n",
      "\u001b[1m35/35\u001b[0m \u001b[32m━━━━━━━━━━━━━━━━━━━━\u001b[0m\u001b[37m\u001b[0m \u001b[1m0s\u001b[0m 1ms/step - attrition_output_accuracy: 0.9867 - attrition_output_loss: 0.0554 - department_output_accuracy: 0.9754 - department_output_loss: 0.1301 - loss: 0.1855 - val_attrition_output_accuracy: 0.7826 - val_attrition_output_loss: 0.8505 - val_department_output_accuracy: 0.5326 - val_department_output_loss: 1.8104 - val_loss: 2.7263\n",
      "Epoch 66/100\n",
      "\u001b[1m35/35\u001b[0m \u001b[32m━━━━━━━━━━━━━━━━━━━━\u001b[0m\u001b[37m\u001b[0m \u001b[1m0s\u001b[0m 1ms/step - attrition_output_accuracy: 0.9888 - attrition_output_loss: 0.0512 - department_output_accuracy: 0.9730 - department_output_loss: 0.1377 - loss: 0.1889 - val_attrition_output_accuracy: 0.8016 - val_attrition_output_loss: 0.8930 - val_department_output_accuracy: 0.5516 - val_department_output_loss: 1.9018 - val_loss: 2.8746\n",
      "Epoch 67/100\n",
      "\u001b[1m35/35\u001b[0m \u001b[32m━━━━━━━━━━━━━━━━━━━━\u001b[0m\u001b[37m\u001b[0m \u001b[1m0s\u001b[0m 1ms/step - attrition_output_accuracy: 0.9833 - attrition_output_loss: 0.0468 - department_output_accuracy: 0.9668 - department_output_loss: 0.1288 - loss: 0.1758 - val_attrition_output_accuracy: 0.7853 - val_attrition_output_loss: 0.8859 - val_department_output_accuracy: 0.5625 - val_department_output_loss: 1.8369 - val_loss: 2.7939\n",
      "Epoch 68/100\n",
      "\u001b[1m35/35\u001b[0m \u001b[32m━━━━━━━━━━━━━━━━━━━━\u001b[0m\u001b[37m\u001b[0m \u001b[1m0s\u001b[0m 1ms/step - attrition_output_accuracy: 0.9931 - attrition_output_loss: 0.0461 - department_output_accuracy: 0.9755 - department_output_loss: 0.1223 - loss: 0.1684 - val_attrition_output_accuracy: 0.8043 - val_attrition_output_loss: 0.9156 - val_department_output_accuracy: 0.5571 - val_department_output_loss: 1.9363 - val_loss: 2.9190\n",
      "Epoch 69/100\n",
      "\u001b[1m35/35\u001b[0m \u001b[32m━━━━━━━━━━━━━━━━━━━━\u001b[0m\u001b[37m\u001b[0m \u001b[1m0s\u001b[0m 1ms/step - attrition_output_accuracy: 0.9895 - attrition_output_loss: 0.0428 - department_output_accuracy: 0.9803 - department_output_loss: 0.1269 - loss: 0.1697 - val_attrition_output_accuracy: 0.7935 - val_attrition_output_loss: 0.9092 - val_department_output_accuracy: 0.5543 - val_department_output_loss: 1.9986 - val_loss: 2.9920\n",
      "Epoch 70/100\n",
      "\u001b[1m35/35\u001b[0m \u001b[32m━━━━━━━━━━━━━━━━━━━━\u001b[0m\u001b[37m\u001b[0m \u001b[1m0s\u001b[0m 1ms/step - attrition_output_accuracy: 0.9891 - attrition_output_loss: 0.0449 - department_output_accuracy: 0.9698 - department_output_loss: 0.1132 - loss: 0.1581 - val_attrition_output_accuracy: 0.8016 - val_attrition_output_loss: 0.9409 - val_department_output_accuracy: 0.5571 - val_department_output_loss: 1.9819 - val_loss: 2.9997\n",
      "Epoch 71/100\n",
      "\u001b[1m35/35\u001b[0m \u001b[32m━━━━━━━━━━━━━━━━━━━━\u001b[0m\u001b[37m\u001b[0m \u001b[1m0s\u001b[0m 1ms/step - attrition_output_accuracy: 0.9897 - attrition_output_loss: 0.0447 - department_output_accuracy: 0.9759 - department_output_loss: 0.1176 - loss: 0.1624 - val_attrition_output_accuracy: 0.7908 - val_attrition_output_loss: 0.9738 - val_department_output_accuracy: 0.5380 - val_department_output_loss: 2.0049 - val_loss: 3.0449\n",
      "Epoch 72/100\n",
      "\u001b[1m35/35\u001b[0m \u001b[32m━━━━━━━━━━━━━━━━━━━━\u001b[0m\u001b[37m\u001b[0m \u001b[1m0s\u001b[0m 1ms/step - attrition_output_accuracy: 0.9945 - attrition_output_loss: 0.0342 - department_output_accuracy: 0.9906 - department_output_loss: 0.0957 - loss: 0.1300 - val_attrition_output_accuracy: 0.7989 - val_attrition_output_loss: 0.9943 - val_department_output_accuracy: 0.5353 - val_department_output_loss: 2.0098 - val_loss: 3.0798\n",
      "Epoch 73/100\n",
      "\u001b[1m35/35\u001b[0m \u001b[32m━━━━━━━━━━━━━━━━━━━━\u001b[0m\u001b[37m\u001b[0m \u001b[1m0s\u001b[0m 1ms/step - attrition_output_accuracy: 0.9940 - attrition_output_loss: 0.0328 - department_output_accuracy: 0.9882 - department_output_loss: 0.0888 - loss: 0.1216 - val_attrition_output_accuracy: 0.7989 - val_attrition_output_loss: 1.0214 - val_department_output_accuracy: 0.5462 - val_department_output_loss: 2.0752 - val_loss: 3.1774\n",
      "Epoch 74/100\n",
      "\u001b[1m35/35\u001b[0m \u001b[32m━━━━━━━━━━━━━━━━━━━━\u001b[0m\u001b[37m\u001b[0m \u001b[1m0s\u001b[0m 1ms/step - attrition_output_accuracy: 0.9944 - attrition_output_loss: 0.0367 - department_output_accuracy: 0.9824 - department_output_loss: 0.0926 - loss: 0.1293 - val_attrition_output_accuracy: 0.7908 - val_attrition_output_loss: 1.0020 - val_department_output_accuracy: 0.5435 - val_department_output_loss: 2.1321 - val_loss: 3.2089\n",
      "Epoch 75/100\n",
      "\u001b[1m35/35\u001b[0m \u001b[32m━━━━━━━━━━━━━━━━━━━━\u001b[0m\u001b[37m\u001b[0m \u001b[1m0s\u001b[0m 1ms/step - attrition_output_accuracy: 0.9890 - attrition_output_loss: 0.0497 - department_output_accuracy: 0.9851 - department_output_loss: 0.1009 - loss: 0.1507 - val_attrition_output_accuracy: 0.7853 - val_attrition_output_loss: 1.0413 - val_department_output_accuracy: 0.5408 - val_department_output_loss: 2.1774 - val_loss: 3.2972\n",
      "Epoch 76/100\n",
      "\u001b[1m35/35\u001b[0m \u001b[32m━━━━━━━━━━━━━━━━━━━━\u001b[0m\u001b[37m\u001b[0m \u001b[1m0s\u001b[0m 1ms/step - attrition_output_accuracy: 0.9897 - attrition_output_loss: 0.0354 - department_output_accuracy: 0.9794 - department_output_loss: 0.0968 - loss: 0.1321 - val_attrition_output_accuracy: 0.7989 - val_attrition_output_loss: 1.0559 - val_department_output_accuracy: 0.5625 - val_department_output_loss: 2.1768 - val_loss: 3.3257\n",
      "Epoch 77/100\n",
      "\u001b[1m35/35\u001b[0m \u001b[32m━━━━━━━━━━━━━━━━━━━━\u001b[0m\u001b[37m\u001b[0m \u001b[1m0s\u001b[0m 3ms/step - attrition_output_accuracy: 0.9911 - attrition_output_loss: 0.0332 - department_output_accuracy: 0.9808 - department_output_loss: 0.0926 - loss: 0.1257 - val_attrition_output_accuracy: 0.7935 - val_attrition_output_loss: 1.0692 - val_department_output_accuracy: 0.5435 - val_department_output_loss: 2.1517 - val_loss: 3.2992\n",
      "Epoch 78/100\n",
      "\u001b[1m35/35\u001b[0m \u001b[32m━━━━━━━━━━━━━━━━━━━━\u001b[0m\u001b[37m\u001b[0m \u001b[1m0s\u001b[0m 1ms/step - attrition_output_accuracy: 0.9956 - attrition_output_loss: 0.0266 - department_output_accuracy: 0.9869 - department_output_loss: 0.0846 - loss: 0.1113 - val_attrition_output_accuracy: 0.7935 - val_attrition_output_loss: 1.0413 - val_department_output_accuracy: 0.5326 - val_department_output_loss: 2.2535 - val_loss: 3.3762\n",
      "Epoch 79/100\n",
      "\u001b[1m35/35\u001b[0m \u001b[32m━━━━━━━━━━━━━━━━━━━━\u001b[0m\u001b[37m\u001b[0m \u001b[1m0s\u001b[0m 1ms/step - attrition_output_accuracy: 0.9982 - attrition_output_loss: 0.0247 - department_output_accuracy: 0.9815 - department_output_loss: 0.0786 - loss: 0.1032 - val_attrition_output_accuracy: 0.8043 - val_attrition_output_loss: 1.0945 - val_department_output_accuracy: 0.5408 - val_department_output_loss: 2.2737 - val_loss: 3.4549\n",
      "Epoch 80/100\n",
      "\u001b[1m35/35\u001b[0m \u001b[32m━━━━━━━━━━━━━━━━━━━━\u001b[0m\u001b[37m\u001b[0m \u001b[1m0s\u001b[0m 1ms/step - attrition_output_accuracy: 0.9907 - attrition_output_loss: 0.0369 - department_output_accuracy: 0.9921 - department_output_loss: 0.0754 - loss: 0.1123 - val_attrition_output_accuracy: 0.8071 - val_attrition_output_loss: 1.0699 - val_department_output_accuracy: 0.5380 - val_department_output_loss: 2.2676 - val_loss: 3.4153\n",
      "Epoch 81/100\n",
      "\u001b[1m35/35\u001b[0m \u001b[32m━━━━━━━━━━━━━━━━━━━━\u001b[0m\u001b[37m\u001b[0m \u001b[1m0s\u001b[0m 1ms/step - attrition_output_accuracy: 0.9971 - attrition_output_loss: 0.0245 - department_output_accuracy: 0.9929 - department_output_loss: 0.0653 - loss: 0.0899 - val_attrition_output_accuracy: 0.7935 - val_attrition_output_loss: 1.1056 - val_department_output_accuracy: 0.5190 - val_department_output_loss: 2.3716 - val_loss: 3.5558\n",
      "Epoch 82/100\n",
      "\u001b[1m35/35\u001b[0m \u001b[32m━━━━━━━━━━━━━━━━━━━━\u001b[0m\u001b[37m\u001b[0m \u001b[1m0s\u001b[0m 1ms/step - attrition_output_accuracy: 0.9987 - attrition_output_loss: 0.0205 - department_output_accuracy: 0.9909 - department_output_loss: 0.0706 - loss: 0.0910 - val_attrition_output_accuracy: 0.7853 - val_attrition_output_loss: 1.1221 - val_department_output_accuracy: 0.5299 - val_department_output_loss: 2.2754 - val_loss: 3.4750\n",
      "Epoch 83/100\n",
      "\u001b[1m35/35\u001b[0m \u001b[32m━━━━━━━━━━━━━━━━━━━━\u001b[0m\u001b[37m\u001b[0m \u001b[1m0s\u001b[0m 1ms/step - attrition_output_accuracy: 0.9935 - attrition_output_loss: 0.0255 - department_output_accuracy: 0.9956 - department_output_loss: 0.0704 - loss: 0.0959 - val_attrition_output_accuracy: 0.7745 - val_attrition_output_loss: 1.1171 - val_department_output_accuracy: 0.5353 - val_department_output_loss: 2.4002 - val_loss: 3.6065\n",
      "Epoch 84/100\n",
      "\u001b[1m35/35\u001b[0m \u001b[32m━━━━━━━━━━━━━━━━━━━━\u001b[0m\u001b[37m\u001b[0m \u001b[1m0s\u001b[0m 1ms/step - attrition_output_accuracy: 0.9955 - attrition_output_loss: 0.0254 - department_output_accuracy: 0.9794 - department_output_loss: 0.0906 - loss: 0.1160 - val_attrition_output_accuracy: 0.7935 - val_attrition_output_loss: 1.1318 - val_department_output_accuracy: 0.5543 - val_department_output_loss: 2.4402 - val_loss: 3.6657\n",
      "Epoch 85/100\n",
      "\u001b[1m35/35\u001b[0m \u001b[32m━━━━━━━━━━━━━━━━━━━━\u001b[0m\u001b[37m\u001b[0m \u001b[1m0s\u001b[0m 1ms/step - attrition_output_accuracy: 0.9946 - attrition_output_loss: 0.0254 - department_output_accuracy: 0.9831 - department_output_loss: 0.0733 - loss: 0.0987 - val_attrition_output_accuracy: 0.7772 - val_attrition_output_loss: 1.1611 - val_department_output_accuracy: 0.5326 - val_department_output_loss: 2.4330 - val_loss: 3.6900\n",
      "Epoch 86/100\n",
      "\u001b[1m35/35\u001b[0m \u001b[32m━━━━━━━━━━━━━━━━━━━━\u001b[0m\u001b[37m\u001b[0m \u001b[1m0s\u001b[0m 1ms/step - attrition_output_accuracy: 0.9988 - attrition_output_loss: 0.0241 - department_output_accuracy: 0.9907 - department_output_loss: 0.0631 - loss: 0.0872 - val_attrition_output_accuracy: 0.7853 - val_attrition_output_loss: 1.2284 - val_department_output_accuracy: 0.5435 - val_department_output_loss: 2.4502 - val_loss: 3.7810\n",
      "Epoch 87/100\n",
      "\u001b[1m35/35\u001b[0m \u001b[32m━━━━━━━━━━━━━━━━━━━━\u001b[0m\u001b[37m\u001b[0m \u001b[1m0s\u001b[0m 1ms/step - attrition_output_accuracy: 0.9888 - attrition_output_loss: 0.0395 - department_output_accuracy: 0.9837 - department_output_loss: 0.0684 - loss: 0.1077 - val_attrition_output_accuracy: 0.7880 - val_attrition_output_loss: 1.1545 - val_department_output_accuracy: 0.5462 - val_department_output_loss: 2.4419 - val_loss: 3.6988\n",
      "Epoch 88/100\n",
      "\u001b[1m35/35\u001b[0m \u001b[32m━━━━━━━━━━━━━━━━━━━━\u001b[0m\u001b[37m\u001b[0m \u001b[1m0s\u001b[0m 1ms/step - attrition_output_accuracy: 0.9971 - attrition_output_loss: 0.0207 - department_output_accuracy: 0.9927 - department_output_loss: 0.0604 - loss: 0.0812 - val_attrition_output_accuracy: 0.7745 - val_attrition_output_loss: 1.1773 - val_department_output_accuracy: 0.5190 - val_department_output_loss: 2.5441 - val_loss: 3.8151\n",
      "Epoch 89/100\n",
      "\u001b[1m35/35\u001b[0m \u001b[32m━━━━━━━━━━━━━━━━━━━━\u001b[0m\u001b[37m\u001b[0m \u001b[1m0s\u001b[0m 1ms/step - attrition_output_accuracy: 0.9972 - attrition_output_loss: 0.0221 - department_output_accuracy: 0.9926 - department_output_loss: 0.0516 - loss: 0.0738 - val_attrition_output_accuracy: 0.7853 - val_attrition_output_loss: 1.2529 - val_department_output_accuracy: 0.5462 - val_department_output_loss: 2.4722 - val_loss: 3.8274\n",
      "Epoch 90/100\n",
      "\u001b[1m35/35\u001b[0m \u001b[32m━━━━━━━━━━━━━━━━━━━━\u001b[0m\u001b[37m\u001b[0m \u001b[1m0s\u001b[0m 1ms/step - attrition_output_accuracy: 0.9946 - attrition_output_loss: 0.0192 - department_output_accuracy: 0.9965 - department_output_loss: 0.0438 - loss: 0.0629 - val_attrition_output_accuracy: 0.7853 - val_attrition_output_loss: 1.1852 - val_department_output_accuracy: 0.5408 - val_department_output_loss: 2.5118 - val_loss: 3.7956\n",
      "Epoch 91/100\n",
      "\u001b[1m35/35\u001b[0m \u001b[32m━━━━━━━━━━━━━━━━━━━━\u001b[0m\u001b[37m\u001b[0m \u001b[1m0s\u001b[0m 1ms/step - attrition_output_accuracy: 0.9991 - attrition_output_loss: 0.0183 - department_output_accuracy: 0.9874 - department_output_loss: 0.0586 - loss: 0.0768 - val_attrition_output_accuracy: 0.7989 - val_attrition_output_loss: 1.2124 - val_department_output_accuracy: 0.5489 - val_department_output_loss: 2.5560 - val_loss: 3.8783\n",
      "Epoch 92/100\n",
      "\u001b[1m35/35\u001b[0m \u001b[32m━━━━━━━━━━━━━━━━━━━━\u001b[0m\u001b[37m\u001b[0m \u001b[1m0s\u001b[0m 1ms/step - attrition_output_accuracy: 0.9990 - attrition_output_loss: 0.0141 - department_output_accuracy: 0.9960 - department_output_loss: 0.0518 - loss: 0.0659 - val_attrition_output_accuracy: 0.7935 - val_attrition_output_loss: 1.2238 - val_department_output_accuracy: 0.5571 - val_department_output_loss: 2.5563 - val_loss: 3.8914\n",
      "Epoch 93/100\n",
      "\u001b[1m35/35\u001b[0m \u001b[32m━━━━━━━━━━━━━━━━━━━━\u001b[0m\u001b[37m\u001b[0m \u001b[1m0s\u001b[0m 1ms/step - attrition_output_accuracy: 0.9993 - attrition_output_loss: 0.0105 - department_output_accuracy: 0.9969 - department_output_loss: 0.0439 - loss: 0.0544 - val_attrition_output_accuracy: 0.7908 - val_attrition_output_loss: 1.2349 - val_department_output_accuracy: 0.5190 - val_department_output_loss: 2.6878 - val_loss: 4.0145\n",
      "Epoch 94/100\n",
      "\u001b[1m35/35\u001b[0m \u001b[32m━━━━━━━━━━━━━━━━━━━━\u001b[0m\u001b[37m\u001b[0m \u001b[1m0s\u001b[0m 1ms/step - attrition_output_accuracy: 0.9981 - attrition_output_loss: 0.0167 - department_output_accuracy: 0.9955 - department_output_loss: 0.0440 - loss: 0.0607 - val_attrition_output_accuracy: 0.7799 - val_attrition_output_loss: 1.2307 - val_department_output_accuracy: 0.5516 - val_department_output_loss: 2.6894 - val_loss: 4.0313\n",
      "Epoch 95/100\n",
      "\u001b[1m35/35\u001b[0m \u001b[32m━━━━━━━━━━━━━━━━━━━━\u001b[0m\u001b[37m\u001b[0m \u001b[1m0s\u001b[0m 1ms/step - attrition_output_accuracy: 0.9981 - attrition_output_loss: 0.0165 - department_output_accuracy: 0.9954 - department_output_loss: 0.0379 - loss: 0.0544 - val_attrition_output_accuracy: 0.7826 - val_attrition_output_loss: 1.3041 - val_department_output_accuracy: 0.5163 - val_department_output_loss: 2.6803 - val_loss: 4.0827\n",
      "Epoch 96/100\n",
      "\u001b[1m35/35\u001b[0m \u001b[32m━━━━━━━━━━━━━━━━━━━━\u001b[0m\u001b[37m\u001b[0m \u001b[1m0s\u001b[0m 1ms/step - attrition_output_accuracy: 0.9964 - attrition_output_loss: 0.0143 - department_output_accuracy: 0.9953 - department_output_loss: 0.0351 - loss: 0.0495 - val_attrition_output_accuracy: 0.7908 - val_attrition_output_loss: 1.2531 - val_department_output_accuracy: 0.5435 - val_department_output_loss: 2.7001 - val_loss: 4.0673\n",
      "Epoch 97/100\n",
      "\u001b[1m35/35\u001b[0m \u001b[32m━━━━━━━━━━━━━━━━━━━━\u001b[0m\u001b[37m\u001b[0m \u001b[1m0s\u001b[0m 1ms/step - attrition_output_accuracy: 0.9994 - attrition_output_loss: 0.0119 - department_output_accuracy: 0.9981 - department_output_loss: 0.0348 - loss: 0.0467 - val_attrition_output_accuracy: 0.7853 - val_attrition_output_loss: 1.3096 - val_department_output_accuracy: 0.5299 - val_department_output_loss: 2.7645 - val_loss: 4.1786\n",
      "Epoch 98/100\n",
      "\u001b[1m35/35\u001b[0m \u001b[32m━━━━━━━━━━━━━━━━━━━━\u001b[0m\u001b[37m\u001b[0m \u001b[1m0s\u001b[0m 3ms/step - attrition_output_accuracy: 0.9954 - attrition_output_loss: 0.0216 - department_output_accuracy: 0.9958 - department_output_loss: 0.0356 - loss: 0.0572 - val_attrition_output_accuracy: 0.7880 - val_attrition_output_loss: 1.3139 - val_department_output_accuracy: 0.5380 - val_department_output_loss: 2.8013 - val_loss: 4.2261\n",
      "Epoch 99/100\n",
      "\u001b[1m35/35\u001b[0m \u001b[32m━━━━━━━━━━━━━━━━━━━━\u001b[0m\u001b[37m\u001b[0m \u001b[1m0s\u001b[0m 1ms/step - attrition_output_accuracy: 0.9969 - attrition_output_loss: 0.0159 - department_output_accuracy: 0.9957 - department_output_loss: 0.0336 - loss: 0.0495 - val_attrition_output_accuracy: 0.7853 - val_attrition_output_loss: 1.3252 - val_department_output_accuracy: 0.5462 - val_department_output_loss: 2.7977 - val_loss: 4.2270\n",
      "Epoch 100/100\n",
      "\u001b[1m35/35\u001b[0m \u001b[32m━━━━━━━━━━━━━━━━━━━━\u001b[0m\u001b[37m\u001b[0m \u001b[1m0s\u001b[0m 1ms/step - attrition_output_accuracy: 0.9966 - attrition_output_loss: 0.0153 - department_output_accuracy: 0.9933 - department_output_loss: 0.0351 - loss: 0.0504 - val_attrition_output_accuracy: 0.7989 - val_attrition_output_loss: 1.3455 - val_department_output_accuracy: 0.5571 - val_department_output_loss: 2.8124 - val_loss: 4.2798\n"
     ]
    },
    {
     "data": {
      "text/plain": [
       "<keras.src.callbacks.history.History at 0x3053700a0>"
      ]
     },
     "execution_count": 46,
     "metadata": {},
     "output_type": "execute_result"
    }
   ],
   "source": [
    "# Train the model\n",
    "model.fit(\n",
    "    X_train_scaled, \n",
    "    {\n",
    "        \"department_output\": y_train_department,\n",
    "        \"attrition_output\": y_train_attrition\n",
    "    },\n",
    "    validation_data=(\n",
    "        X_test_scaled, \n",
    "        {\n",
    "            \"department_output\": y_test_department,\n",
    "            \"attrition_output\": y_test_attrition\n",
    "        }\n",
    "    ),\n",
    "    epochs=100,\n",
    "    batch_size=32\n",
    ")\n"
   ]
  },
  {
   "cell_type": "code",
   "execution_count": 47,
   "metadata": {
    "colab": {
     "base_uri": "https://localhost:8080/"
    },
    "id": "VsMoaQlgGc3U",
    "outputId": "1bd4e601-e964-4abc-ad83-aeecf6b696be"
   },
   "outputs": [
    {
     "name": "stdout",
     "output_type": "stream",
     "text": [
      "\u001b[1m12/12\u001b[0m \u001b[32m━━━━━━━━━━━━━━━━━━━━\u001b[0m\u001b[37m\u001b[0m \u001b[1m0s\u001b[0m 2ms/step - attrition_output_accuracy: 0.7801 - attrition_output_loss: 1.4217 - department_output_accuracy: 0.5551 - department_output_loss: 2.9920 - loss: 4.4324 \n",
      "Loss: 4.279829025268555\n",
      "Department Output Loss: 2.8123557567596436\n",
      "Attrition Output Loss: 1.345543384552002\n",
      "Department Output Accuracy: 0.7989130616188049\n",
      "Attrition Output Accuracy: 0.5570651888847351\n"
     ]
    }
   ],
   "source": [
    "# Evaluate the model with the testing data\n",
    "evaluation_results = model.evaluate(\n",
    "    X_test_scaled,\n",
    "    {\n",
    "        \"department_output\": y_test_department,\n",
    "        \"attrition_output\": y_test_attrition\n",
    "    }\n",
    ")\n",
    "\n",
    "# Print the evaluation results\n",
    "print(f\"Loss: {evaluation_results[0]}\")\n",
    "print(f\"Department Output Loss: {evaluation_results[1]}\")\n",
    "print(f\"Attrition Output Loss: {evaluation_results[2]}\")\n",
    "print(f\"Department Output Accuracy: {evaluation_results[3]}\")\n",
    "print(f\"Attrition Output Accuracy: {evaluation_results[4]}\")"
   ]
  },
  {
   "cell_type": "code",
   "execution_count": 48,
   "metadata": {
    "colab": {
     "base_uri": "https://localhost:8080/"
    },
    "id": "ZlCtlHi0Vt54",
    "outputId": "bc21ef3e-80c2-4b38-9c29-79515bc23dec"
   },
   "outputs": [
    {
     "name": "stdout",
     "output_type": "stream",
     "text": [
      "Department predictions accuracy: 0.7989130616188049\n",
      "Attrition predictions accuracy: 0.5570651888847351\n"
     ]
    }
   ],
   "source": [
    "# Print the accuracy for both department and attrition\n",
    "department_accuracy = evaluation_results[3]  # Department output accuracy\n",
    "attrition_accuracy = evaluation_results[4]   # Attrition output accuracy\n",
    "\n",
    "print(f\"Department predictions accuracy: {department_accuracy}\")\n",
    "print(f\"Attrition predictions accuracy: {attrition_accuracy}\")"
   ]
  },
  {
   "cell_type": "markdown",
   "metadata": {
    "id": "eGSyfsZfWOQM"
   },
   "source": [
    "# Summary\n",
    "\n",
    "In the provided space below, briefly answer the following questions.\n",
    "\n",
    "1. Is accuracy the best metric to use on this data? Why or why not?\n",
    "\n",
    "2. What activation functions did you choose for your output layers, and why?\n",
    "\n",
    "3. Can you name a few ways that this model might be improved?"
   ]
  },
  {
   "cell_type": "markdown",
   "metadata": {
    "id": "pi9SLpFnWvbF"
   },
   "source": [
    "YOUR ANSWERS HERE\n",
    "\n",
    "1. Generally Accuracy is a good metric. In this case, as there is an imbalance in classes for both output labels, either we balance the classes or use alternative metrics like - precision, F1-score or a combination\n",
    "2. Department Output - Activation Function: Softmax:: Since Department is a multi-class categorical variable with mutually exclusive options, softmax ensures the output represents probabilities across all departments, summing to 1.\n",
    "3. Attrition Output: Activation Function: Sigmoid: Attrition is binary (Yes/No). A sigmoid activation function outputs probabilities between 0 and 1, making it suitable for binary classification.\n",
    "4. Improvements that can be used in this are: class balance techniques; hyper-parameter tuning; try different architectures"
   ]
  },
  {
   "cell_type": "code",
   "execution_count": 49,
   "metadata": {},
   "outputs": [
    {
     "name": "stdout",
     "output_type": "stream",
     "text": [
      "Last updated: 2025-01-05T12:14:44.912745-07:00\n",
      "\n",
      "Python implementation: CPython\n",
      "Python version       : 3.10.14\n",
      "IPython version      : 8.25.0\n",
      "\n",
      "Compiler    : Clang 14.0.6 \n",
      "OS          : Darwin\n",
      "Release     : 23.4.0\n",
      "Machine     : arm64\n",
      "Processor   : arm\n",
      "CPU cores   : 8\n",
      "Architecture: 64bit\n",
      "\n",
      "sklearn   : 1.4.2\n",
      "numpy     : 1.26.4\n",
      "watermark : 2.5.0\n",
      "sys       : 3.10.14 (main, May  6 2024, 14:42:37) [Clang 14.0.6 ]\n",
      "IPython   : 8.25.0\n",
      "ipywidgets: 8.1.5\n",
      "tensorflow: 2.18.0\n",
      "pandas    : 2.2.2\n",
      "keras     : 3.7.0\n",
      "xarray    : 2023.6.0\n",
      "json      : 2.0.9\n",
      "\n"
     ]
    }
   ],
   "source": [
    "#this is extra to get configuration details\n",
    "\n",
    "#filter harmless warnings \n",
    "import warnings \n",
    "warnings.filterwarnings(\"ignore\") \n",
    "\n",
    "#you need to install watermark\n",
    "from watermark import watermark \n",
    "print(watermark()) \n",
    "print(watermark(iversions=True, globals_=globals()))"
   ]
  },
  {
   "cell_type": "code",
   "execution_count": null,
   "metadata": {},
   "outputs": [],
   "source": []
  }
 ],
 "metadata": {
  "colab": {
   "provenance": []
  },
  "kernelspec": {
   "display_name": "Python 3 (ipykernel)",
   "language": "python",
   "name": "python3"
  },
  "language_info": {
   "codemirror_mode": {
    "name": "ipython",
    "version": 3
   },
   "file_extension": ".py",
   "mimetype": "text/x-python",
   "name": "python",
   "nbconvert_exporter": "python",
   "pygments_lexer": "ipython3",
   "version": "3.10.14"
  },
  "vscode": {
   "interpreter": {
    "hash": "31f2aee4e71d21fbe5cf8b01ff0e069b9275f58929596ceb00d14d90e3e16cd6"
   }
  }
 },
 "nbformat": 4,
 "nbformat_minor": 4
}
